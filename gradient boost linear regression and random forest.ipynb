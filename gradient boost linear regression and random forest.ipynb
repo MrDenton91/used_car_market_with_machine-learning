{
 "cells": [
  {
   "cell_type": "code",
   "execution_count": 43,
   "metadata": {},
   "outputs": [],
   "source": [
    "import numpy as np\n",
    "import pandas as pd\n",
    "import scipy.stats as scs\n",
    "from sklearn.model_selection import train_test_split\n",
    "from sklearn.metrics import mean_squared_error, r2_score, precision_score\n",
    "\n",
    "\n",
    "\n",
    "\n",
    "def eval(model, X, y):\n",
    "    y_prdict = model.predict(X)\n",
    "    rsme = np.sqrt(mean_squared_error(y,y_prdict))\n",
    "    \n",
    "    #precision = precision_score(y,y_prdict)\n",
    "    \n",
    "    y_base = np.ones(len(y))*y.median()\n",
    "    rmse_base = np.sqrt(mean_squared_error(y,y_base))\n",
    "    \n",
    "    print(model)\n",
    "    \n",
    "    print('R2 of model: {:2.2f}'.format(r2_score(y,y_prdict)))\n",
    "    \n",
    "    print('RMSE of model: {:2.2f}'.format(mean_squared_error(y,y_prdict)))\n",
    "    print('Base RMSE: {}'.format(rmse_base))\n",
    "    \n",
    "    print('Normalized RSME (RMSE of predict/RMSE of base) : {:2.2f}'.format(rsme/rmse_base))\n",
    "    return rsme"
   ]
  },
  {
   "cell_type": "code",
   "execution_count": 44,
   "metadata": {},
   "outputs": [
    {
     "name": "stdout",
     "output_type": "stream",
     "text": [
      "1184606\n",
      "1184606\n",
      "1184606\n",
      "100000\n"
     ]
    },
    {
     "data": {
      "text/html": [
       "<div>\n",
       "<style scoped>\n",
       "    .dataframe tbody tr th:only-of-type {\n",
       "        vertical-align: middle;\n",
       "    }\n",
       "\n",
       "    .dataframe tbody tr th {\n",
       "        vertical-align: top;\n",
       "    }\n",
       "\n",
       "    .dataframe thead th {\n",
       "        text-align: right;\n",
       "    }\n",
       "</style>\n",
       "<table border=\"1\" class=\"dataframe\">\n",
       "  <thead>\n",
       "    <tr style=\"text-align: right;\">\n",
       "      <th></th>\n",
       "      <th>Price</th>\n",
       "      <th>Make</th>\n",
       "      <th>Model</th>\n",
       "      <th>Body Style</th>\n",
       "      <th>City</th>\n",
       "      <th>State</th>\n",
       "      <th>Milage</th>\n",
       "      <th>Color</th>\n",
       "      <th>Age</th>\n",
       "    </tr>\n",
       "  </thead>\n",
       "  <tbody>\n",
       "    <tr>\n",
       "      <th>0</th>\n",
       "      <td>24990</td>\n",
       "      <td>Chevrolet</td>\n",
       "      <td>TrailBlazer</td>\n",
       "      <td>SUV</td>\n",
       "      <td>BROOKLYN CENTER</td>\n",
       "      <td>MN</td>\n",
       "      <td>4.199617e-06</td>\n",
       "      <td>Blue</td>\n",
       "      <td>0.000000</td>\n",
       "    </tr>\n",
       "    <tr>\n",
       "      <th>1</th>\n",
       "      <td>19500</td>\n",
       "      <td>Chevrolet</td>\n",
       "      <td>Avalanche</td>\n",
       "      <td>Crew Cab Pickup</td>\n",
       "      <td>Carmel</td>\n",
       "      <td>IN</td>\n",
       "      <td>2.941412e-02</td>\n",
       "      <td>Silver</td>\n",
       "      <td>0.089286</td>\n",
       "    </tr>\n",
       "    <tr>\n",
       "      <th>2</th>\n",
       "      <td>14990</td>\n",
       "      <td>Toyota</td>\n",
       "      <td>Corolla</td>\n",
       "      <td>Sedan</td>\n",
       "      <td>Warr Acres</td>\n",
       "      <td>OK</td>\n",
       "      <td>9.564029e-03</td>\n",
       "      <td>Red</td>\n",
       "      <td>0.017857</td>\n",
       "    </tr>\n",
       "    <tr>\n",
       "      <th>3</th>\n",
       "      <td>52980</td>\n",
       "      <td>Dodge</td>\n",
       "      <td>Charger</td>\n",
       "      <td>Sedan</td>\n",
       "      <td>Commerce</td>\n",
       "      <td>CA</td>\n",
       "      <td>9.410143e-04</td>\n",
       "      <td>Black</td>\n",
       "      <td>0.044643</td>\n",
       "    </tr>\n",
       "    <tr>\n",
       "      <th>4</th>\n",
       "      <td>65725</td>\n",
       "      <td>Land Rover</td>\n",
       "      <td>Discovery</td>\n",
       "      <td>SUV</td>\n",
       "      <td>Mt Kisco</td>\n",
       "      <td>NY</td>\n",
       "      <td>3.509680e-05</td>\n",
       "      <td>Blue</td>\n",
       "      <td>0.008929</td>\n",
       "    </tr>\n",
       "    <tr>\n",
       "      <th>...</th>\n",
       "      <td>...</td>\n",
       "      <td>...</td>\n",
       "      <td>...</td>\n",
       "      <td>...</td>\n",
       "      <td>...</td>\n",
       "      <td>...</td>\n",
       "      <td>...</td>\n",
       "      <td>...</td>\n",
       "      <td>...</td>\n",
       "    </tr>\n",
       "    <tr>\n",
       "      <th>99995</th>\n",
       "      <td>59030</td>\n",
       "      <td>RAM</td>\n",
       "      <td>1500</td>\n",
       "      <td>Crew Cab Pickup</td>\n",
       "      <td>Nappanee</td>\n",
       "      <td>IN</td>\n",
       "      <td>2.999727e-07</td>\n",
       "      <td>Blue</td>\n",
       "      <td>0.008929</td>\n",
       "    </tr>\n",
       "    <tr>\n",
       "      <th>99996</th>\n",
       "      <td>35743</td>\n",
       "      <td>Chevrolet</td>\n",
       "      <td>Traverse</td>\n",
       "      <td>SUV</td>\n",
       "      <td>Feasterville-Trevose</td>\n",
       "      <td>PA</td>\n",
       "      <td>7.298635e-03</td>\n",
       "      <td>White</td>\n",
       "      <td>0.017857</td>\n",
       "    </tr>\n",
       "    <tr>\n",
       "      <th>99997</th>\n",
       "      <td>44995</td>\n",
       "      <td>Ford</td>\n",
       "      <td>F-150</td>\n",
       "      <td>Crew Cab Pickup</td>\n",
       "      <td>Pikeville</td>\n",
       "      <td>KY</td>\n",
       "      <td>8.444531e-03</td>\n",
       "      <td>Black</td>\n",
       "      <td>0.026786</td>\n",
       "    </tr>\n",
       "    <tr>\n",
       "      <th>99998</th>\n",
       "      <td>16998</td>\n",
       "      <td>Hyundai</td>\n",
       "      <td>Sonata</td>\n",
       "      <td>Sedan</td>\n",
       "      <td>Canoga Park</td>\n",
       "      <td>CA</td>\n",
       "      <td>9.903298e-03</td>\n",
       "      <td>White</td>\n",
       "      <td>0.035714</td>\n",
       "    </tr>\n",
       "    <tr>\n",
       "      <th>99999</th>\n",
       "      <td>11990</td>\n",
       "      <td>Honda</td>\n",
       "      <td>Accord</td>\n",
       "      <td>Sedan</td>\n",
       "      <td>Miami Springs</td>\n",
       "      <td>FL</td>\n",
       "      <td>2.948041e-02</td>\n",
       "      <td>White</td>\n",
       "      <td>0.080357</td>\n",
       "    </tr>\n",
       "  </tbody>\n",
       "</table>\n",
       "<p>100000 rows × 9 columns</p>\n",
       "</div>"
      ],
      "text/plain": [
       "       Price        Make        Model       Body Style                  City  \\\n",
       "0      24990   Chevrolet  TrailBlazer              SUV       BROOKLYN CENTER   \n",
       "1      19500   Chevrolet    Avalanche  Crew Cab Pickup                Carmel   \n",
       "2      14990      Toyota      Corolla            Sedan            Warr Acres   \n",
       "3      52980       Dodge      Charger            Sedan              Commerce   \n",
       "4      65725  Land Rover    Discovery              SUV              Mt Kisco   \n",
       "...      ...         ...          ...              ...                   ...   \n",
       "99995  59030         RAM         1500  Crew Cab Pickup              Nappanee   \n",
       "99996  35743   Chevrolet     Traverse              SUV  Feasterville-Trevose   \n",
       "99997  44995        Ford        F-150  Crew Cab Pickup             Pikeville   \n",
       "99998  16998     Hyundai       Sonata            Sedan           Canoga Park   \n",
       "99999  11990       Honda       Accord            Sedan         Miami Springs   \n",
       "\n",
       "      State        Milage   Color       Age  \n",
       "0        MN  4.199617e-06    Blue  0.000000  \n",
       "1        IN  2.941412e-02  Silver  0.089286  \n",
       "2        OK  9.564029e-03     Red  0.017857  \n",
       "3        CA  9.410143e-04   Black  0.044643  \n",
       "4        NY  3.509680e-05    Blue  0.008929  \n",
       "...     ...           ...     ...       ...  \n",
       "99995    IN  2.999727e-07    Blue  0.008929  \n",
       "99996    PA  7.298635e-03   White  0.017857  \n",
       "99997    KY  8.444531e-03   Black  0.026786  \n",
       "99998    CA  9.903298e-03   White  0.035714  \n",
       "99999    FL  2.948041e-02   White  0.080357  \n",
       "\n",
       "[100000 rows x 9 columns]"
      ]
     },
     "execution_count": 44,
     "metadata": {},
     "output_type": "execute_result"
    }
   ],
   "source": [
    "all_data = pd.read_csv('comb_all_data.csv')\n",
    "print(len(all_data))\n",
    "no_dups = all_data.drop_duplicates()\n",
    "no_nan = no_dups.dropna()\n",
    "print(len(no_dups))\n",
    "print(len(no_nan))\n",
    "no_nan = no_nan.sample(frac=1).reset_index(drop=True)\n",
    "no_nan = no_nan.dropna()\n",
    "config = no_nan.head(100000)\n",
    "print(len(config))\n",
    "config"
   ]
  },
  {
   "cell_type": "code",
   "execution_count": 45,
   "metadata": {},
   "outputs": [
    {
     "data": {
      "text/plain": [
       "array(['Blue', 'Silver', 'Red', 'Black', 'White', 'Gray', 'Orange',\n",
       "       'Brown', 'Beige', 'Yellow', 'Purple', 'Other', 'Green', 'Gold',\n",
       "       'Pink'], dtype=object)"
      ]
     },
     "execution_count": 45,
     "metadata": {},
     "output_type": "execute_result"
    }
   ],
   "source": [
    "no_nan['Color'].unique()"
   ]
  },
  {
   "cell_type": "code",
   "execution_count": 46,
   "metadata": {},
   "outputs": [],
   "source": [
    "dummies = config.select_dtypes('object').columns\n",
    "y = config.pop('Price')\n",
    "X = pd.get_dummies(config, columns = dummies, dummy_na = True, prefix=dummies)\n",
    "\n",
    "X_train, X_test, y_train, y_test = train_test_split(X , y, test_size=0.10, random_state = 10)"
   ]
  },
  {
   "cell_type": "code",
   "execution_count": 47,
   "metadata": {},
   "outputs": [
    {
     "data": {
      "text/plain": [
       "40051    0.017965\n",
       "99400    0.005700\n",
       "38475    0.001577\n",
       "82212    0.025715\n",
       "59706    0.000002\n",
       "           ...   \n",
       "9372     0.011830\n",
       "93553    0.000003\n",
       "50496    0.004348\n",
       "94735    0.000003\n",
       "83209    0.000001\n",
       "Name: Milage, Length: 90000, dtype: float64"
      ]
     },
     "execution_count": 47,
     "metadata": {},
     "output_type": "execute_result"
    }
   ],
   "source": [
    "#print X-train for make sure it doesn't have price\n",
    "#X_train['Price'] error ---> no price in it\n",
    "\n",
    "#double check Milage\n",
    "X_train['Milage']"
   ]
  },
  {
   "cell_type": "markdown",
   "metadata": {},
   "source": [
    "# Gradient Boosting Regressor"
   ]
  },
  {
   "cell_type": "code",
   "execution_count": 48,
   "metadata": {
    "scrolled": true
   },
   "outputs": [
    {
     "name": "stdout",
     "output_type": "stream",
     "text": [
      "      Iter       Train Loss   Remaining Time \n",
      "         1   379871991.1974          158.19m\n",
      "         2   376145441.1458          157.31m\n",
      "         3   372467441.7417          157.08m\n",
      "         4   368886389.2870          156.87m\n",
      "         5   365375845.5860          156.54m\n",
      "         6   361909939.4781          156.50m\n",
      "         7   358525562.8446          156.54m\n",
      "         8   355189452.5520          156.39m\n",
      "         9   351907232.8532          156.55m\n",
      "        10   348689939.7801          156.66m\n",
      "        20   319862069.3715          156.23m\n",
      "        30   295894385.7100          155.17m\n",
      "        40   275874415.1116          154.07m\n",
      "        50   258828562.4308          153.21m\n",
      "        60   244216292.5523          152.36m\n",
      "        70   231689971.3959          151.45m\n",
      "        80   220934718.0616          150.42m\n",
      "        90   211271827.2413          149.03m\n",
      "       100   203178018.0063          147.63m\n",
      "       200   152360013.7602          131.81m\n",
      "       300   129591035.1554          115.91m\n",
      "       400   115255281.8266          102.96m\n",
      "       500   105045499.6701           91.79m\n",
      "       600    97919526.9127           81.43m\n",
      "       700    92331959.6463           71.54m\n",
      "       800    87604226.9969           62.05m\n",
      "       900    83616143.2058           52.79m\n",
      "      1000    80001938.5734           43.75m\n",
      "GradientBoostingRegressor(alpha=0.9, ccp_alpha=0.0, criterion='friedman_mse',\n",
      "                          init=None, learning_rate=0.01, loss='ls', max_depth=5,\n",
      "                          max_features=None, max_leaf_nodes=None,\n",
      "                          min_impurity_decrease=0.0, min_impurity_split=None,\n",
      "                          min_samples_leaf=1, min_samples_split=2,\n",
      "                          min_weight_fraction_leaf=0.0, n_estimators=1500,\n",
      "                          n_iter_no_change=None, presort='deprecated',\n",
      "                          random_state=None, subsample=1.0, tol=0.0001,\n",
      "                          validation_fraction=0.1, verbose=1, warm_start=False)\n",
      "R2 of model: 0.80\n",
      "RMSE of model: 70495474.98\n",
      "Base RMSE: 19298.145644594973\n",
      "Normalized RSME (RMSE of predict/RMSE of base) : 0.44\n"
     ]
    },
    {
     "data": {
      "text/plain": [
       "8396.158346286451"
      ]
     },
     "execution_count": 48,
     "metadata": {},
     "output_type": "execute_result"
    }
   ],
   "source": [
    "from sklearn.ensemble import GradientBoostingRegressor\n",
    "\n",
    "gbr = GradientBoostingRegressor(n_estimators=1500, max_depth=5, verbose=1 , learning_rate=0.01)\n",
    "gbr.fit(X_train, y_train)\n",
    "eval(gbr, X_test,y_test)"
   ]
  },
  {
   "cell_type": "code",
   "execution_count": 49,
   "metadata": {},
   "outputs": [
    {
     "data": {
      "text/html": [
       "<div>\n",
       "<style scoped>\n",
       "    .dataframe tbody tr th:only-of-type {\n",
       "        vertical-align: middle;\n",
       "    }\n",
       "\n",
       "    .dataframe tbody tr th {\n",
       "        vertical-align: top;\n",
       "    }\n",
       "\n",
       "    .dataframe thead th {\n",
       "        text-align: right;\n",
       "    }\n",
       "</style>\n",
       "<table border=\"1\" class=\"dataframe\">\n",
       "  <thead>\n",
       "    <tr style=\"text-align: right;\">\n",
       "      <th></th>\n",
       "      <th>feature</th>\n",
       "      <th>weight</th>\n",
       "    </tr>\n",
       "  </thead>\n",
       "  <tbody>\n",
       "    <tr>\n",
       "      <th>0</th>\n",
       "      <td>Milage</td>\n",
       "      <td>0.280601</td>\n",
       "    </tr>\n",
       "    <tr>\n",
       "      <th>17</th>\n",
       "      <td>Make_Ferrari</td>\n",
       "      <td>0.093255</td>\n",
       "    </tr>\n",
       "    <tr>\n",
       "      <th>1026</th>\n",
       "      <td>Body Style_Crew Cab Pickup</td>\n",
       "      <td>0.071274</td>\n",
       "    </tr>\n",
       "    <tr>\n",
       "      <th>1</th>\n",
       "      <td>Age</td>\n",
       "      <td>0.061905</td>\n",
       "    </tr>\n",
       "    <tr>\n",
       "      <th>48</th>\n",
       "      <td>Make_Porsche</td>\n",
       "      <td>0.051841</td>\n",
       "    </tr>\n",
       "    <tr>\n",
       "      <th>...</th>\n",
       "      <td>...</td>\n",
       "      <td>...</td>\n",
       "    </tr>\n",
       "    <tr>\n",
       "      <th>1178</th>\n",
       "      <td>City_Beloit</td>\n",
       "      <td>0.000000</td>\n",
       "    </tr>\n",
       "    <tr>\n",
       "      <th>1179</th>\n",
       "      <td>City_Belton</td>\n",
       "      <td>0.000000</td>\n",
       "    </tr>\n",
       "    <tr>\n",
       "      <th>1180</th>\n",
       "      <td>City_Belvidere</td>\n",
       "      <td>0.000000</td>\n",
       "    </tr>\n",
       "    <tr>\n",
       "      <th>1181</th>\n",
       "      <td>City_Bensalem</td>\n",
       "      <td>0.000000</td>\n",
       "    </tr>\n",
       "    <tr>\n",
       "      <th>3078</th>\n",
       "      <td>Color_nan</td>\n",
       "      <td>0.000000</td>\n",
       "    </tr>\n",
       "  </tbody>\n",
       "</table>\n",
       "<p>3079 rows × 2 columns</p>\n",
       "</div>"
      ],
      "text/plain": [
       "                         feature    weight\n",
       "0                         Milage  0.280601\n",
       "17                  Make_Ferrari  0.093255\n",
       "1026  Body Style_Crew Cab Pickup  0.071274\n",
       "1                            Age  0.061905\n",
       "48                  Make_Porsche  0.051841\n",
       "...                          ...       ...\n",
       "1178                 City_Beloit  0.000000\n",
       "1179                 City_Belton  0.000000\n",
       "1180              City_Belvidere  0.000000\n",
       "1181               City_Bensalem  0.000000\n",
       "3078                   Color_nan  0.000000\n",
       "\n",
       "[3079 rows x 2 columns]"
      ]
     },
     "execution_count": 49,
     "metadata": {},
     "output_type": "execute_result"
    }
   ],
   "source": [
    "gbFI=pd.DataFrame({'feature': X.columns.values})\n",
    "gbFI['weight']=gbr.feature_importances_\n",
    "gbFI.sort_values(by='weight', ascending=False, inplace=True)\n",
    "gbFI"
   ]
  },
  {
   "cell_type": "code",
   "execution_count": 50,
   "metadata": {},
   "outputs": [
    {
     "data": {
      "text/plain": [
       "40051     9800\n",
       "99400    28590\n",
       "38475    30289\n",
       "82212    31960\n",
       "59706    50167\n",
       "         ...  \n",
       "9372     15199\n",
       "93553    25980\n",
       "50496    32999\n",
       "94735    53565\n",
       "83209    20476\n",
       "Name: Price, Length: 90000, dtype: int64"
      ]
     },
     "execution_count": 50,
     "metadata": {},
     "output_type": "execute_result"
    }
   ],
   "source": [
    "y_train"
   ]
  },
  {
   "cell_type": "markdown",
   "metadata": {},
   "source": [
    "# Linear Regrssor"
   ]
  },
  {
   "cell_type": "code",
   "execution_count": 51,
   "metadata": {},
   "outputs": [
    {
     "name": "stdout",
     "output_type": "stream",
     "text": [
      "LinearRegression(copy_X=True, fit_intercept=True, n_jobs=None, normalize=True)\n",
      "R2 of model: -4481714632736346427686387712.00\n",
      "RMSE of model: 1595129406083560880867481268986576896.00\n",
      "Base RMSE: 19298.145644594973\n",
      "Normalized RSME (RMSE of predict/RMSE of base) : 65445890429644.88\n"
     ]
    },
    {
     "data": {
      "text/plain": [
       "1.262984325351491e+18"
      ]
     },
     "execution_count": 51,
     "metadata": {},
     "output_type": "execute_result"
    }
   ],
   "source": [
    "from sklearn.linear_model import LinearRegression\n",
    "from sklearn.model_selection import train_test_split\n",
    "\n",
    "linear = LinearRegression(normalize = True)\n",
    "\n",
    "linear.fit(X_train, y_train)\n",
    "eval(linear, X_test,y_test)\n"
   ]
  },
  {
   "cell_type": "markdown",
   "metadata": {},
   "source": [
    "# Random Forest"
   ]
  },
  {
   "cell_type": "code",
   "execution_count": 52,
   "metadata": {},
   "outputs": [
    {
     "name": "stdout",
     "output_type": "stream",
     "text": [
      "RandomForestRegressor(bootstrap=True, ccp_alpha=0.0, criterion='mse',\n",
      "                      max_depth=10, max_features='auto', max_leaf_nodes=None,\n",
      "                      max_samples=None, min_impurity_decrease=0.0,\n",
      "                      min_impurity_split=None, min_samples_leaf=1,\n",
      "                      min_samples_split=2, min_weight_fraction_leaf=0.0,\n",
      "                      n_estimators=500, n_jobs=None, oob_score=False,\n",
      "                      random_state=None, verbose=0, warm_start=False)\n",
      "R2 of model: 0.60\n",
      "RMSE of model: 140828582.32\n",
      "Base RMSE: 19298.145644594973\n",
      "Normalized RSME (RMSE of predict/RMSE of base) : 0.61\n"
     ]
    },
    {
     "data": {
      "text/plain": [
       "11867.12190566267"
      ]
     },
     "execution_count": 52,
     "metadata": {},
     "output_type": "execute_result"
    }
   ],
   "source": [
    "from sklearn.ensemble import  RandomForestRegressor\n",
    "from sklearn.metrics import mean_squared_error, r2_score\n",
    "\n",
    "\n",
    "rfr = RandomForestRegressor(max_depth=10, n_estimators=500)\n",
    "rfr.fit(X_train, y_train)\n",
    "eval(rfr, X_test,y_test)"
   ]
  },
  {
   "cell_type": "code",
   "execution_count": 53,
   "metadata": {},
   "outputs": [
    {
     "data": {
      "text/html": [
       "<div>\n",
       "<style scoped>\n",
       "    .dataframe tbody tr th:only-of-type {\n",
       "        vertical-align: middle;\n",
       "    }\n",
       "\n",
       "    .dataframe tbody tr th {\n",
       "        vertical-align: top;\n",
       "    }\n",
       "\n",
       "    .dataframe thead th {\n",
       "        text-align: right;\n",
       "    }\n",
       "</style>\n",
       "<table border=\"1\" class=\"dataframe\">\n",
       "  <thead>\n",
       "    <tr style=\"text-align: right;\">\n",
       "      <th></th>\n",
       "      <th>feature</th>\n",
       "      <th>weight</th>\n",
       "    </tr>\n",
       "  </thead>\n",
       "  <tbody>\n",
       "    <tr>\n",
       "      <th>0</th>\n",
       "      <td>Milage</td>\n",
       "      <td>0.325294</td>\n",
       "    </tr>\n",
       "    <tr>\n",
       "      <th>17</th>\n",
       "      <td>Make_Ferrari</td>\n",
       "      <td>0.110458</td>\n",
       "    </tr>\n",
       "    <tr>\n",
       "      <th>1026</th>\n",
       "      <td>Body Style_Crew Cab Pickup</td>\n",
       "      <td>0.090525</td>\n",
       "    </tr>\n",
       "    <tr>\n",
       "      <th>1</th>\n",
       "      <td>Age</td>\n",
       "      <td>0.070885</td>\n",
       "    </tr>\n",
       "    <tr>\n",
       "      <th>48</th>\n",
       "      <td>Make_Porsche</td>\n",
       "      <td>0.062745</td>\n",
       "    </tr>\n",
       "    <tr>\n",
       "      <th>...</th>\n",
       "      <td>...</td>\n",
       "      <td>...</td>\n",
       "    </tr>\n",
       "    <tr>\n",
       "      <th>1196</th>\n",
       "      <td>City_Bethel Park</td>\n",
       "      <td>0.000000</td>\n",
       "    </tr>\n",
       "    <tr>\n",
       "      <th>1197</th>\n",
       "      <td>City_Bettendorf</td>\n",
       "      <td>0.000000</td>\n",
       "    </tr>\n",
       "    <tr>\n",
       "      <th>1203</th>\n",
       "      <td>City_Bixby</td>\n",
       "      <td>0.000000</td>\n",
       "    </tr>\n",
       "    <tr>\n",
       "      <th>1205</th>\n",
       "      <td>City_Blacksburg</td>\n",
       "      <td>0.000000</td>\n",
       "    </tr>\n",
       "    <tr>\n",
       "      <th>3078</th>\n",
       "      <td>Color_nan</td>\n",
       "      <td>0.000000</td>\n",
       "    </tr>\n",
       "  </tbody>\n",
       "</table>\n",
       "<p>3079 rows × 2 columns</p>\n",
       "</div>"
      ],
      "text/plain": [
       "                         feature    weight\n",
       "0                         Milage  0.325294\n",
       "17                  Make_Ferrari  0.110458\n",
       "1026  Body Style_Crew Cab Pickup  0.090525\n",
       "1                            Age  0.070885\n",
       "48                  Make_Porsche  0.062745\n",
       "...                          ...       ...\n",
       "1196            City_Bethel Park  0.000000\n",
       "1197             City_Bettendorf  0.000000\n",
       "1203                  City_Bixby  0.000000\n",
       "1205             City_Blacksburg  0.000000\n",
       "3078                   Color_nan  0.000000\n",
       "\n",
       "[3079 rows x 2 columns]"
      ]
     },
     "execution_count": 53,
     "metadata": {},
     "output_type": "execute_result"
    }
   ],
   "source": [
    "rfrFI=pd.DataFrame({'feature': X.columns.values})\n",
    "rfrFI['weight']=rfr.feature_importances_\n",
    "rfrFI.sort_values(by='weight', ascending=False, inplace=True)\n",
    "rfrFI"
   ]
  },
  {
   "cell_type": "code",
   "execution_count": 56,
   "metadata": {},
   "outputs": [
    {
     "data": {
      "text/plain": [
       "['gbr.pkl']"
      ]
     },
     "execution_count": 56,
     "metadata": {},
     "output_type": "execute_result"
    }
   ],
   "source": [
    "#save models as pkl for later use\n",
    "from sklearn.externals import joblib\n",
    "\n",
    "joblib.dump(rfr, 'rfr.pkl')\n",
    "joblib.dump(gbr, 'gbr.pkl') "
   ]
  },
  {
   "cell_type": "code",
   "execution_count": null,
   "metadata": {},
   "outputs": [],
   "source": []
  }
 ],
 "metadata": {
  "kernelspec": {
   "display_name": "Python 3",
   "language": "python",
   "name": "python3"
  },
  "language_info": {
   "codemirror_mode": {
    "name": "ipython",
    "version": 3
   },
   "file_extension": ".py",
   "mimetype": "text/x-python",
   "name": "python",
   "nbconvert_exporter": "python",
   "pygments_lexer": "ipython3",
   "version": "3.7.6"
  }
 },
 "nbformat": 4,
 "nbformat_minor": 4
}
