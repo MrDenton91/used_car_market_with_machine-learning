{
 "cells": [
  {
   "cell_type": "code",
   "execution_count": 1,
   "metadata": {},
   "outputs": [],
   "source": [
    "import numpy as np\n",
    "import pandas as pd\n",
    "import scipy.stats as scs\n",
    "from sklearn.model_selection import train_test_split\n",
    "from sklearn.metrics import mean_squared_error, r2_score, precision_score\n",
    "\n",
    "\n",
    "\n",
    "\n",
    "def eval(model, X, y):\n",
    "    y_prdict = model.predict(X)\n",
    "    rsme = np.sqrt(mean_squared_error(y,y_prdict))\n",
    "    \n",
    "    #precision = precision_score(y,y_prdict)\n",
    "    \n",
    "    y_base = np.ones(len(y))*y.median()\n",
    "    rmse_base = np.sqrt(mean_squared_error(y,y_base))\n",
    "    \n",
    "    print(model)\n",
    "    \n",
    "    print('R2 of model: {:2.2f}'.format(r2_score(y,y_prdict)))\n",
    "    \n",
    "    print('RMSE of model: {:2.2f}'.format(mean_squared_error(y,y_prdict)))\n",
    "    print('Base RMSE: {}'.format(rmse_base))\n",
    "    \n",
    "    print('Normalized RSME (RMSE of predict/RMSE of base) : {:2.2f}'.format(rsme/rmse_base))\n",
    "    return rsme"
   ]
  },
  {
   "cell_type": "code",
   "execution_count": 2,
   "metadata": {},
   "outputs": [],
   "source": [
    "colnames = ['Price', 'Make', \"Model\", 'Year', 'Body Style', 'City', 'State', 'Milage', 'Color']\n",
    "data1 = pd.read_csv('carlist1.csv', low_memory=False, names=colnames, header=None)\n",
    "data2 = pd.read_csv('carlist2.csv', low_memory=False, names=colnames, header=None)\n",
    "data3 = pd.read_csv('carlist3.csv', low_memory=False, names=colnames, header=None)\n",
    "data4 = pd.read_csv('carlist4.csv', low_memory=False, names=colnames, header=None)\n",
    "data5 = pd.read_csv('carlist5.csv', low_memory=False, names=colnames, header=None)\n",
    "data6 = pd.read_csv('carlist6.csv', low_memory=False, names=colnames, header=None)\n",
    "data7 = pd.read_csv('carlist7.csv', low_memory=False, names=colnames, header=None)\n",
    "data8 = pd.read_csv('carlist8.csv', low_memory=False, names=colnames, header=None)\n",
    "data9 = pd.read_csv('carlist9.csv', low_memory=False, names=colnames, header=None)\n",
    "data10 = pd.read_csv('carlist10.csv', low_memory=False, names=colnames, header=None)\n",
    "data11 = pd.read_csv('carlist11.csv', low_memory=False, names=colnames, header=None)\n",
    "data12 = pd.read_csv('carlist12.csv', low_memory=False, names=colnames, header=None)\n",
    "data13 = pd.read_csv('carlist13.csv', low_memory=False, names=colnames, header=None)\n",
    "data14 = pd.read_csv('carlist14.csv', low_memory=False, names=colnames, header=None)\n",
    "data15 = pd.read_csv('carlist15.csv', low_memory=False, names=colnames, header=None)\n",
    "data16 = pd.read_csv('carlist16.csv', low_memory=False, names=colnames, header=None)\n",
    "data17 = pd.read_csv('carlist17.csv', low_memory=False, names=colnames, header=None)\n",
    "data18 = pd.read_csv('carlist18.csv', low_memory=False, names=colnames, header=None)\n",
    "data19 = pd.read_csv('carlist19.csv', low_memory=False, names=colnames, header=None)\n",
    "data20 = pd.read_csv('carlist20.csv', low_memory=False, names=colnames, header=None)\n",
    "\n",
    "frames = [data1, data2, data3, data4, data5, data6, data7, data8, data9, data10, data11, data12, data13, data14, data15, data16, data17, data18, data19, data20]\n",
    "all_data = pd.concat(frames)"
   ]
  },
  {
   "cell_type": "code",
   "execution_count": 3,
   "metadata": {},
   "outputs": [
    {
     "name": "stdout",
     "output_type": "stream",
     "text": [
      "3583306\n",
      "470230\n",
      "406968\n"
     ]
    }
   ],
   "source": [
    "print(len(all_data))\n",
    "no_dups = all_data.drop_duplicates()\n",
    "no_nan = no_dups.dropna()\n",
    "print(len(no_dups))\n",
    "print(len(no_nan))"
   ]
  },
  {
   "cell_type": "code",
   "execution_count": 4,
   "metadata": {},
   "outputs": [
    {
     "data": {
      "text/plain": [
       "array(['White', 'Black', 'Silver', 'Gray', 'Red', 'Other', 'Blue',\n",
       "       'Green', 'Gold', 'Brown', 'Beige', 'Orange', 'Yellow', 'Purple',\n",
       "       'Pink'], dtype=object)"
      ]
     },
     "execution_count": 4,
     "metadata": {},
     "output_type": "execute_result"
    }
   ],
   "source": [
    "no_nan['Color'].unique()"
   ]
  },
  {
   "cell_type": "code",
   "execution_count": 5,
   "metadata": {},
   "outputs": [],
   "source": [
    "dummies = no_nan.select_dtypes('object').columns\n",
    "y = no_nan.pop('Price')\n",
    "X = pd.get_dummies(no_nan, columns = dummies, dummy_na = True, prefix=dummies)\n",
    "\n",
    "X_train, X_test, y_train, y_test = train_test_split(X , y, test_size=0.20, random_state = 10)"
   ]
  },
  {
   "cell_type": "code",
   "execution_count": 8,
   "metadata": {},
   "outputs": [
    {
     "name": "stdout",
     "output_type": "stream",
     "text": [
      "      Iter       Train Loss   Remaining Time \n",
      "         1  1364616498.4824         1171.22m\n",
      "         2  1203002686.1994         1199.84m\n",
      "         3  1071690408.7078         1212.50m\n",
      "         4   964937211.7417         1211.46m\n",
      "         5   877556813.6359         1210.75m\n",
      "         6   866273721.1366         1215.40m\n",
      "         7   796240463.4397         1216.06m\n",
      "         8   787822997.0676         1217.36m\n",
      "         9   732025410.0872         1215.96m\n",
      "        10   685960656.6388         1208.01m\n",
      "        20   534213056.9137         1130.42m\n",
      "        30   492907244.8462         1057.53m\n",
      "        40   473760766.2567         1007.60m\n",
      "        50   453455875.3595          977.05m\n",
      "        60   445533712.1473          948.69m\n",
      "        70   420534184.3388          926.28m\n",
      "        80   391308826.7040          908.25m\n",
      "        90   380894123.0170          889.61m\n",
      "       100   375980708.4945          868.17m\n",
      "       200   245305574.2720          742.13m\n",
      "       300   196574761.5076          664.48m\n",
      "       400   176058510.7516          598.94m\n",
      "       500   168600318.2762          539.09m\n",
      "       600   142428042.4324          481.59m\n",
      "       700   139553080.8665          426.01m\n",
      "       800   105187368.1931          371.43m\n",
      "       900   103091402.8877          317.38m\n",
      "      1000    88638010.6271          258.31m\n",
      "GradientBoostingRegressor(alpha=0.9, ccp_alpha=0.0, criterion='friedman_mse',\n",
      "                          init=None, learning_rate=0.1, loss='ls', max_depth=5,\n",
      "                          max_features=None, max_leaf_nodes=None,\n",
      "                          min_impurity_decrease=0.0, min_impurity_split=None,\n",
      "                          min_samples_leaf=1, min_samples_split=2,\n",
      "                          min_weight_fraction_leaf=0.0, n_estimators=1500,\n",
      "                          n_iter_no_change=None, presort='deprecated',\n",
      "                          random_state=None, subsample=1.0, tol=0.0001,\n",
      "                          validation_fraction=0.1, verbose=1, warm_start=False)\n",
      "R2 of model: -0.86\n",
      "RMSE of model: 822246752.86\n",
      "Base RMSE: 21346.502858194155\n",
      "Normalized RSME (RMSE of predict/RMSE of base) : 1.34\n"
     ]
    },
    {
     "data": {
      "text/plain": [
       "28674.84529797871"
      ]
     },
     "execution_count": 8,
     "metadata": {},
     "output_type": "execute_result"
    }
   ],
   "source": [
    "from sklearn.ensemble import GradientBoostingRegressor\n",
    "\n",
    "gbr = GradientBoostingRegressor(n_estimators=1500, max_depth=5, verbose=1 , learning_rate=0.01)\n",
    "gbr.fit(X_train, y_train)\n",
    "eval(gbr, X_test,y_test)"
   ]
  },
  {
   "cell_type": "code",
   "execution_count": 9,
   "metadata": {},
   "outputs": [
    {
     "data": {
      "text/html": [
       "<div>\n",
       "<style scoped>\n",
       "    .dataframe tbody tr th:only-of-type {\n",
       "        vertical-align: middle;\n",
       "    }\n",
       "\n",
       "    .dataframe tbody tr th {\n",
       "        vertical-align: top;\n",
       "    }\n",
       "\n",
       "    .dataframe thead th {\n",
       "        text-align: right;\n",
       "    }\n",
       "</style>\n",
       "<table border=\"1\" class=\"dataframe\">\n",
       "  <thead>\n",
       "    <tr style=\"text-align: right;\">\n",
       "      <th></th>\n",
       "      <th>feature</th>\n",
       "      <th>weight</th>\n",
       "    </tr>\n",
       "  </thead>\n",
       "  <tbody>\n",
       "    <tr>\n",
       "      <th>0</th>\n",
       "      <td>Milage</td>\n",
       "      <td>0.610297</td>\n",
       "    </tr>\n",
       "    <tr>\n",
       "      <th>2149</th>\n",
       "      <td>City_Midwest City</td>\n",
       "      <td>0.075359</td>\n",
       "    </tr>\n",
       "    <tr>\n",
       "      <th>484</th>\n",
       "      <td>Model_Explorer</td>\n",
       "      <td>0.065944</td>\n",
       "    </tr>\n",
       "    <tr>\n",
       "      <th>506</th>\n",
       "      <td>Model_Fiesta</td>\n",
       "      <td>0.052365</td>\n",
       "    </tr>\n",
       "    <tr>\n",
       "      <th>1280</th>\n",
       "      <td>Year_2019</td>\n",
       "      <td>0.038965</td>\n",
       "    </tr>\n",
       "    <tr>\n",
       "      <th>...</th>\n",
       "      <td>...</td>\n",
       "      <td>...</td>\n",
       "    </tr>\n",
       "    <tr>\n",
       "      <th>1585</th>\n",
       "      <td>City_Cherryville</td>\n",
       "      <td>0.000000</td>\n",
       "    </tr>\n",
       "    <tr>\n",
       "      <th>1584</th>\n",
       "      <td>City_Cherokee</td>\n",
       "      <td>0.000000</td>\n",
       "    </tr>\n",
       "    <tr>\n",
       "      <th>1583</th>\n",
       "      <td>City_Chelsea</td>\n",
       "      <td>0.000000</td>\n",
       "    </tr>\n",
       "    <tr>\n",
       "      <th>1582</th>\n",
       "      <td>City_Chaska</td>\n",
       "      <td>0.000000</td>\n",
       "    </tr>\n",
       "    <tr>\n",
       "      <th>2783</th>\n",
       "      <td>Color_nan</td>\n",
       "      <td>0.000000</td>\n",
       "    </tr>\n",
       "  </tbody>\n",
       "</table>\n",
       "<p>2784 rows × 2 columns</p>\n",
       "</div>"
      ],
      "text/plain": [
       "                feature    weight\n",
       "0                Milage  0.610297\n",
       "2149  City_Midwest City  0.075359\n",
       "484      Model_Explorer  0.065944\n",
       "506        Model_Fiesta  0.052365\n",
       "1280          Year_2019  0.038965\n",
       "...                 ...       ...\n",
       "1585   City_Cherryville  0.000000\n",
       "1584      City_Cherokee  0.000000\n",
       "1583       City_Chelsea  0.000000\n",
       "1582        City_Chaska  0.000000\n",
       "2783          Color_nan  0.000000\n",
       "\n",
       "[2784 rows x 2 columns]"
      ]
     },
     "execution_count": 9,
     "metadata": {},
     "output_type": "execute_result"
    }
   ],
   "source": [
    "gbFI=pd.DataFrame({'feature': X.columns.values})\n",
    "gbFI['weight']=gbr.feature_importances_\n",
    "gbFI.sort_values(by='weight', ascending=False, inplace=True)\n",
    "gbFI"
   ]
  },
  {
   "cell_type": "code",
   "execution_count": null,
   "metadata": {},
   "outputs": [],
   "source": []
  }
 ],
 "metadata": {
  "kernelspec": {
   "display_name": "Python 3",
   "language": "python",
   "name": "python3"
  },
  "language_info": {
   "codemirror_mode": {
    "name": "ipython",
    "version": 3
   },
   "file_extension": ".py",
   "mimetype": "text/x-python",
   "name": "python",
   "nbconvert_exporter": "python",
   "pygments_lexer": "ipython3",
   "version": "3.7.6"
  }
 },
 "nbformat": 4,
 "nbformat_minor": 4
}
