{
 "cells": [
  {
   "cell_type": "code",
   "execution_count": 1,
   "metadata": {},
   "outputs": [],
   "source": [
    "import numpy as np\n",
    "import pandas as pd\n",
    "import scipy.stats as scs\n",
    "from sklearn.model_selection import train_test_split\n",
    "from sklearn.metrics import mean_squared_error, r2_score, precision_score\n",
    "\n",
    "\n",
    "\n",
    "\n",
    "def eval(model, X, y):\n",
    "    y_prdict = model.predict(X)\n",
    "    rsme = np.sqrt(mean_squared_error(y,y_prdict))\n",
    "    \n",
    "    #precision = precision_score(y,y_prdict)\n",
    "    \n",
    "    y_base = np.ones(len(y))*y.median()\n",
    "    rmse_base = np.sqrt(mean_squared_error(y,y_base))\n",
    "    \n",
    "    print(model)\n",
    "    \n",
    "    print('R2 of model: {:2.2f}'.format(r2_score(y,y_prdict)))\n",
    "    \n",
    "    print('RMSE of model: {:2.2f}'.format(mean_squared_error(y,y_prdict)))\n",
    "    print('Base RMSE: {}'.format(rmse_base))\n",
    "    \n",
    "    print('Normalized RSME (RMSE of predict/RMSE of base) : {:2.2f}'.format(rsme/rmse_base))\n",
    "    return rsme"
   ]
  },
  {
   "cell_type": "code",
   "execution_count": 8,
   "metadata": {},
   "outputs": [
    {
     "name": "stdout",
     "output_type": "stream",
     "text": [
      "1184606\n",
      "1184606\n",
      "1184606\n",
      "100000\n"
     ]
    },
    {
     "data": {
      "text/html": [
       "<div>\n",
       "<style scoped>\n",
       "    .dataframe tbody tr th:only-of-type {\n",
       "        vertical-align: middle;\n",
       "    }\n",
       "\n",
       "    .dataframe tbody tr th {\n",
       "        vertical-align: top;\n",
       "    }\n",
       "\n",
       "    .dataframe thead th {\n",
       "        text-align: right;\n",
       "    }\n",
       "</style>\n",
       "<table border=\"1\" class=\"dataframe\">\n",
       "  <thead>\n",
       "    <tr style=\"text-align: right;\">\n",
       "      <th></th>\n",
       "      <th>Price</th>\n",
       "      <th>Make</th>\n",
       "      <th>Model</th>\n",
       "      <th>Body Style</th>\n",
       "      <th>City</th>\n",
       "      <th>State</th>\n",
       "      <th>Milage</th>\n",
       "      <th>Color</th>\n",
       "      <th>Age</th>\n",
       "    </tr>\n",
       "  </thead>\n",
       "  <tbody>\n",
       "    <tr>\n",
       "      <th>0</th>\n",
       "      <td>49876</td>\n",
       "      <td>AC</td>\n",
       "      <td>Shelby Cobra</td>\n",
       "      <td>Convertible</td>\n",
       "      <td>Matthews</td>\n",
       "      <td>NC</td>\n",
       "      <td>0.000322</td>\n",
       "      <td>Red</td>\n",
       "      <td>0.500000</td>\n",
       "    </tr>\n",
       "    <tr>\n",
       "      <th>1</th>\n",
       "      <td>44999</td>\n",
       "      <td>AC</td>\n",
       "      <td>Shelby Cobra</td>\n",
       "      <td>Convertible</td>\n",
       "      <td>Nashville</td>\n",
       "      <td>TN</td>\n",
       "      <td>0.003643</td>\n",
       "      <td>Blue</td>\n",
       "      <td>0.500000</td>\n",
       "    </tr>\n",
       "    <tr>\n",
       "      <th>2</th>\n",
       "      <td>7500</td>\n",
       "      <td>Acura</td>\n",
       "      <td>Integra</td>\n",
       "      <td>Coupe</td>\n",
       "      <td>College Station</td>\n",
       "      <td>TX</td>\n",
       "      <td>0.045896</td>\n",
       "      <td>Red</td>\n",
       "      <td>0.241071</td>\n",
       "    </tr>\n",
       "    <tr>\n",
       "      <th>3</th>\n",
       "      <td>7500</td>\n",
       "      <td>Acura</td>\n",
       "      <td>Integra</td>\n",
       "      <td>Coupe</td>\n",
       "      <td>College Station</td>\n",
       "      <td>TX</td>\n",
       "      <td>0.045896</td>\n",
       "      <td>Black</td>\n",
       "      <td>0.241071</td>\n",
       "    </tr>\n",
       "    <tr>\n",
       "      <th>4</th>\n",
       "      <td>7500</td>\n",
       "      <td>Acura</td>\n",
       "      <td>Integra</td>\n",
       "      <td>Coupe</td>\n",
       "      <td>College Station</td>\n",
       "      <td>TX</td>\n",
       "      <td>0.045896</td>\n",
       "      <td>White</td>\n",
       "      <td>0.241071</td>\n",
       "    </tr>\n",
       "    <tr>\n",
       "      <th>...</th>\n",
       "      <td>...</td>\n",
       "      <td>...</td>\n",
       "      <td>...</td>\n",
       "      <td>...</td>\n",
       "      <td>...</td>\n",
       "      <td>...</td>\n",
       "      <td>...</td>\n",
       "      <td>...</td>\n",
       "      <td>...</td>\n",
       "    </tr>\n",
       "    <tr>\n",
       "      <th>99995</th>\n",
       "      <td>32699</td>\n",
       "      <td>Dodge</td>\n",
       "      <td>Charger</td>\n",
       "      <td>Sedan</td>\n",
       "      <td>Spartanburg</td>\n",
       "      <td>SC</td>\n",
       "      <td>0.000000</td>\n",
       "      <td>White</td>\n",
       "      <td>0.008929</td>\n",
       "    </tr>\n",
       "    <tr>\n",
       "      <th>99996</th>\n",
       "      <td>24190</td>\n",
       "      <td>Dodge</td>\n",
       "      <td>Charger</td>\n",
       "      <td>Sedan</td>\n",
       "      <td>Chandler</td>\n",
       "      <td>OK</td>\n",
       "      <td>0.000100</td>\n",
       "      <td>Black</td>\n",
       "      <td>0.008929</td>\n",
       "    </tr>\n",
       "    <tr>\n",
       "      <th>99997</th>\n",
       "      <td>18950</td>\n",
       "      <td>Dodge</td>\n",
       "      <td>Journey</td>\n",
       "      <td>SUV</td>\n",
       "      <td>Eden</td>\n",
       "      <td>NC</td>\n",
       "      <td>0.000002</td>\n",
       "      <td>Gray</td>\n",
       "      <td>0.008929</td>\n",
       "    </tr>\n",
       "    <tr>\n",
       "      <th>99998</th>\n",
       "      <td>17749</td>\n",
       "      <td>Dodge</td>\n",
       "      <td>Journey</td>\n",
       "      <td>SUV</td>\n",
       "      <td>Merrillville</td>\n",
       "      <td>IN</td>\n",
       "      <td>0.000004</td>\n",
       "      <td>Gray</td>\n",
       "      <td>0.008929</td>\n",
       "    </tr>\n",
       "    <tr>\n",
       "      <th>99999</th>\n",
       "      <td>21130</td>\n",
       "      <td>Dodge</td>\n",
       "      <td>Journey</td>\n",
       "      <td>SUV</td>\n",
       "      <td>Gladstone</td>\n",
       "      <td>MO</td>\n",
       "      <td>0.000003</td>\n",
       "      <td>Black</td>\n",
       "      <td>0.008929</td>\n",
       "    </tr>\n",
       "  </tbody>\n",
       "</table>\n",
       "<p>100000 rows × 9 columns</p>\n",
       "</div>"
      ],
      "text/plain": [
       "       Price   Make         Model   Body Style             City State  \\\n",
       "0      49876     AC  Shelby Cobra  Convertible         Matthews    NC   \n",
       "1      44999     AC  Shelby Cobra  Convertible        Nashville    TN   \n",
       "2       7500  Acura       Integra        Coupe  College Station    TX   \n",
       "3       7500  Acura       Integra        Coupe  College Station    TX   \n",
       "4       7500  Acura       Integra        Coupe  College Station    TX   \n",
       "...      ...    ...           ...          ...              ...   ...   \n",
       "99995  32699  Dodge       Charger        Sedan      Spartanburg    SC   \n",
       "99996  24190  Dodge       Charger        Sedan         Chandler    OK   \n",
       "99997  18950  Dodge       Journey          SUV             Eden    NC   \n",
       "99998  17749  Dodge       Journey          SUV     Merrillville    IN   \n",
       "99999  21130  Dodge       Journey          SUV        Gladstone    MO   \n",
       "\n",
       "         Milage  Color       Age  \n",
       "0      0.000322    Red  0.500000  \n",
       "1      0.003643   Blue  0.500000  \n",
       "2      0.045896    Red  0.241071  \n",
       "3      0.045896  Black  0.241071  \n",
       "4      0.045896  White  0.241071  \n",
       "...         ...    ...       ...  \n",
       "99995  0.000000  White  0.008929  \n",
       "99996  0.000100  Black  0.008929  \n",
       "99997  0.000002   Gray  0.008929  \n",
       "99998  0.000004   Gray  0.008929  \n",
       "99999  0.000003  Black  0.008929  \n",
       "\n",
       "[100000 rows x 9 columns]"
      ]
     },
     "execution_count": 8,
     "metadata": {},
     "output_type": "execute_result"
    }
   ],
   "source": [
    "all_data = pd.read_csv('comb_all_data.csv')\n",
    "print(len(all_data))\n",
    "no_dups = all_data.drop_duplicates()\n",
    "no_nan = no_dups.dropna()\n",
    "print(len(no_dups))\n",
    "print(len(no_nan))\n",
    "\n",
    "config = no_nan.head(100000)\n",
    "print(len(config))\n",
    "config"
   ]
  },
  {
   "cell_type": "code",
   "execution_count": 9,
   "metadata": {},
   "outputs": [
    {
     "name": "stdout",
     "output_type": "stream",
     "text": [
      "1184606\n",
      "1184606\n",
      "1184606\n"
     ]
    }
   ],
   "source": [
    "print(len(all_data))\n",
    "no_dups = all_data.drop_duplicates()\n",
    "no_nan = no_dups.dropna()\n",
    "print(len(no_dups))\n",
    "print(len(no_nan))"
   ]
  },
  {
   "cell_type": "code",
   "execution_count": 4,
   "metadata": {},
   "outputs": [
    {
     "data": {
      "text/plain": [
       "array(['White', 'Black', 'Silver', 'Gray', 'Red', 'Other', 'Blue',\n",
       "       'Green', 'Gold', 'Brown', 'Beige', 'Orange', 'Yellow', 'Purple',\n",
       "       'Pink'], dtype=object)"
      ]
     },
     "execution_count": 4,
     "metadata": {},
     "output_type": "execute_result"
    }
   ],
   "source": [
    "no_nan['Color'].unique()"
   ]
  },
  {
   "cell_type": "code",
   "execution_count": 10,
   "metadata": {},
   "outputs": [],
   "source": [
    "dummies = config.select_dtypes('object').columns\n",
    "y = config.pop('Price')\n",
    "X = pd.get_dummies(config, columns = dummies, dummy_na = True, prefix=dummies)\n",
    "\n",
    "X_train, X_test, y_train, y_test = train_test_split(X , y, test_size=0.20, random_state = 10)"
   ]
  },
  {
   "cell_type": "code",
   "execution_count": null,
   "metadata": {},
   "outputs": [],
   "source": []
  },
  {
   "cell_type": "markdown",
   "metadata": {},
   "source": [
    "# Gradient Boosting Regressor"
   ]
  },
  {
   "cell_type": "code",
   "execution_count": 11,
   "metadata": {},
   "outputs": [
    {
     "name": "stdout",
     "output_type": "stream",
     "text": [
      "      Iter       Train Loss   Remaining Time \n",
      "         1   390942857.9533           66.71m\n",
      "         2   387555579.1339           66.40m\n",
      "         3   384234500.5158           66.29m\n",
      "         4   380976640.9717           66.25m\n",
      "         5   377782613.4166           66.21m\n",
      "         6   374648326.7073           66.17m\n",
      "         7   371575084.2665           66.21m\n",
      "         8   368583710.6922           66.16m\n",
      "         9   365566735.4777           66.08m\n",
      "        10   362656282.3098           66.06m\n",
      "        20   335768965.3350           66.00m\n",
      "        30   312998091.1099           65.84m\n",
      "        40   293829787.3344           65.60m\n",
      "        50   273689535.6558           65.51m\n",
      "        60   258801758.1280           65.25m\n",
      "        70   246543080.0053           64.89m\n",
      "        80   235295177.9052           64.48m\n",
      "        90   225470968.0755           64.01m\n",
      "       100   217274611.9972           63.53m\n",
      "       200   168498516.8583           57.32m\n",
      "       300   143211175.5431           51.01m\n",
      "       400   131076429.2172           45.53m\n",
      "       500   123276587.1363           40.42m\n",
      "       600   116875665.7597           35.72m\n",
      "       700   111012687.9590           31.32m\n",
      "       800   106498758.8992           27.12m\n",
      "       900   101027936.3622           23.07m\n",
      "      1000    98304347.3412           19.10m\n",
      "GradientBoostingRegressor(alpha=0.9, ccp_alpha=0.0, criterion='friedman_mse',\n",
      "                          init=None, learning_rate=0.01, loss='ls', max_depth=5,\n",
      "                          max_features=None, max_leaf_nodes=None,\n",
      "                          min_impurity_decrease=0.0, min_impurity_split=None,\n",
      "                          min_samples_leaf=1, min_samples_split=2,\n",
      "                          min_weight_fraction_leaf=0.0, n_estimators=1500,\n",
      "                          n_iter_no_change=None, presort='deprecated',\n",
      "                          random_state=None, subsample=1.0, tol=0.0001,\n",
      "                          validation_fraction=0.1, verbose=1, warm_start=False)\n",
      "R2 of model: 0.70\n",
      "RMSE of model: 116166902.07\n",
      "Base RMSE: 20113.33450881529\n",
      "Normalized RSME (RMSE of predict/RMSE of base) : 0.54\n"
     ]
    },
    {
     "data": {
      "text/plain": [
       "10778.075063127995"
      ]
     },
     "execution_count": 11,
     "metadata": {},
     "output_type": "execute_result"
    }
   ],
   "source": [
    "from sklearn.ensemble import GradientBoostingRegressor\n",
    "\n",
    "gbr = GradientBoostingRegressor(n_estimators=1500, max_depth=5, verbose=1 , learning_rate=0.01)\n",
    "gbr.fit(X_train, y_train)\n",
    "eval(gbr, X_test,y_test)"
   ]
  },
  {
   "cell_type": "code",
   "execution_count": 12,
   "metadata": {},
   "outputs": [
    {
     "data": {
      "text/html": [
       "<div>\n",
       "<style scoped>\n",
       "    .dataframe tbody tr th:only-of-type {\n",
       "        vertical-align: middle;\n",
       "    }\n",
       "\n",
       "    .dataframe tbody tr th {\n",
       "        vertical-align: top;\n",
       "    }\n",
       "\n",
       "    .dataframe thead th {\n",
       "        text-align: right;\n",
       "    }\n",
       "</style>\n",
       "<table border=\"1\" class=\"dataframe\">\n",
       "  <thead>\n",
       "    <tr style=\"text-align: right;\">\n",
       "      <th></th>\n",
       "      <th>feature</th>\n",
       "      <th>weight</th>\n",
       "    </tr>\n",
       "  </thead>\n",
       "  <tbody>\n",
       "    <tr>\n",
       "      <th>0</th>\n",
       "      <td>Milage</td>\n",
       "      <td>0.269005</td>\n",
       "    </tr>\n",
       "    <tr>\n",
       "      <th>1</th>\n",
       "      <td>Age</td>\n",
       "      <td>0.108113</td>\n",
       "    </tr>\n",
       "    <tr>\n",
       "      <th>9</th>\n",
       "      <td>Make_Bentley</td>\n",
       "      <td>0.061173</td>\n",
       "    </tr>\n",
       "    <tr>\n",
       "      <th>8</th>\n",
       "      <td>Make_BMW</td>\n",
       "      <td>0.059753</td>\n",
       "    </tr>\n",
       "    <tr>\n",
       "      <th>1526</th>\n",
       "      <td>Color_White</td>\n",
       "      <td>0.053612</td>\n",
       "    </tr>\n",
       "    <tr>\n",
       "      <th>...</th>\n",
       "      <td>...</td>\n",
       "      <td>...</td>\n",
       "    </tr>\n",
       "    <tr>\n",
       "      <th>616</th>\n",
       "      <td>City_Covina</td>\n",
       "      <td>0.000000</td>\n",
       "    </tr>\n",
       "    <tr>\n",
       "      <th>615</th>\n",
       "      <td>City_Courtland</td>\n",
       "      <td>0.000000</td>\n",
       "    </tr>\n",
       "    <tr>\n",
       "      <th>614</th>\n",
       "      <td>City_Cottonwood</td>\n",
       "      <td>0.000000</td>\n",
       "    </tr>\n",
       "    <tr>\n",
       "      <th>613</th>\n",
       "      <td>City_Cottondale</td>\n",
       "      <td>0.000000</td>\n",
       "    </tr>\n",
       "    <tr>\n",
       "      <th>1528</th>\n",
       "      <td>Color_nan</td>\n",
       "      <td>0.000000</td>\n",
       "    </tr>\n",
       "  </tbody>\n",
       "</table>\n",
       "<p>1529 rows × 2 columns</p>\n",
       "</div>"
      ],
      "text/plain": [
       "              feature    weight\n",
       "0              Milage  0.269005\n",
       "1                 Age  0.108113\n",
       "9        Make_Bentley  0.061173\n",
       "8            Make_BMW  0.059753\n",
       "1526      Color_White  0.053612\n",
       "...               ...       ...\n",
       "616       City_Covina  0.000000\n",
       "615    City_Courtland  0.000000\n",
       "614   City_Cottonwood  0.000000\n",
       "613   City_Cottondale  0.000000\n",
       "1528        Color_nan  0.000000\n",
       "\n",
       "[1529 rows x 2 columns]"
      ]
     },
     "execution_count": 12,
     "metadata": {},
     "output_type": "execute_result"
    }
   ],
   "source": [
    "gbFI=pd.DataFrame({'feature': X.columns.values})\n",
    "gbFI['weight']=gbr.feature_importances_\n",
    "gbFI.sort_values(by='weight', ascending=False, inplace=True)\n",
    "gbFI"
   ]
  },
  {
   "cell_type": "code",
   "execution_count": 13,
   "metadata": {},
   "outputs": [
    {
     "data": {
      "text/plain": [
       "31152     8995\n",
       "33499     3995\n",
       "18594    24000\n",
       "97132    24700\n",
       "56015    14999\n",
       "         ...  \n",
       "9372     21495\n",
       "93553    27185\n",
       "50496    13990\n",
       "94735    17250\n",
       "83209    22999\n",
       "Name: Price, Length: 80000, dtype: int64"
      ]
     },
     "execution_count": 13,
     "metadata": {},
     "output_type": "execute_result"
    }
   ],
   "source": [
    "y_train"
   ]
  },
  {
   "cell_type": "markdown",
   "metadata": {},
   "source": [
    "# Linear Regrssor"
   ]
  },
  {
   "cell_type": "code",
   "execution_count": 14,
   "metadata": {},
   "outputs": [
    {
     "name": "stdout",
     "output_type": "stream",
     "text": [
      "LinearRegression(copy_X=True, fit_intercept=True, n_jobs=None, normalize=True)\n",
      "R2 of model: -481357502996395831559454720.00\n",
      "RMSE of model: 187522749422631366650724586293821440.00\n",
      "Base RMSE: 20113.33450881529\n",
      "Normalized RSME (RMSE of predict/RMSE of base) : 21529944210704.40\n"
     ]
    },
    {
     "data": {
      "text/plain": [
       "4.3303896986602874e+17"
      ]
     },
     "execution_count": 14,
     "metadata": {},
     "output_type": "execute_result"
    }
   ],
   "source": [
    "from sklearn.linear_model import LinearRegression\n",
    "from sklearn.model_selection import train_test_split\n",
    "\n",
    "linear = LinearRegression(normalize = True)\n",
    "\n",
    "linear.fit(X_train, y_train)\n",
    "eval(linear, X_test,y_test)\n"
   ]
  },
  {
   "cell_type": "markdown",
   "metadata": {},
   "source": [
    "# Random Forest"
   ]
  },
  {
   "cell_type": "code",
   "execution_count": null,
   "metadata": {},
   "outputs": [],
   "source": [
    "from sklearn.ensemble import  RandomForestRegressor\n",
    "from sklearn.metrics import mean_squared_error, r2_score\n",
    "\n",
    "\n",
    "rfr = RandomForestRegressor(max_depth=10, n_estimators=500)\n",
    "rfr.fit(X_train, y_train)\n",
    "eval(rfr, X_test,y_test)"
   ]
  },
  {
   "cell_type": "code",
   "execution_count": null,
   "metadata": {},
   "outputs": [],
   "source": []
  }
 ],
 "metadata": {
  "kernelspec": {
   "display_name": "Python 3",
   "language": "python",
   "name": "python3"
  },
  "language_info": {
   "codemirror_mode": {
    "name": "ipython",
    "version": 3
   },
   "file_extension": ".py",
   "mimetype": "text/x-python",
   "name": "python",
   "nbconvert_exporter": "python",
   "pygments_lexer": "ipython3",
   "version": "3.7.6"
  }
 },
 "nbformat": 4,
 "nbformat_minor": 4
}
