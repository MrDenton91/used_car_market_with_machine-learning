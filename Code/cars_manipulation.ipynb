{
 "cells": [
  {
   "cell_type": "code",
   "execution_count": 26,
   "metadata": {},
   "outputs": [],
   "source": [
    "import pandas as pd\n",
    "import numpy as np\n"
   ]
  },
  {
   "cell_type": "code",
   "execution_count": 93,
   "metadata": {},
   "outputs": [
    {
     "name": "stdout",
     "output_type": "stream",
     "text": [
      "df1 done\n"
     ]
    }
   ],
   "source": [
    "## I've got to load all 20 data frames\n",
    "Col = ['Price','Make','Model','Year','Body_Sytle','City','State','Milage','Seller_Type','Seller_Review_Score','Number_of_Reviews']\n",
    "\n",
    "df1 = pd.read_csv('all_data.csv',low_memory=False, names=Col )\n",
    "print('df1 done')\n",
    "\n",
    "\n",
    "\n",
    "## I've got to combine all 20 items\n",
    "#all_data = pd.concat([df1,df2], axis=0, join='outer', sort=True)\n",
    "\n",
    "#cars_test = pd.DataFrame([])\n",
    "\n",
    "\n"
   ]
  },
  {
   "cell_type": "code",
   "execution_count": 94,
   "metadata": {},
   "outputs": [
    {
     "data": {
      "text/html": [
       "<div>\n",
       "<style scoped>\n",
       "    .dataframe tbody tr th:only-of-type {\n",
       "        vertical-align: middle;\n",
       "    }\n",
       "\n",
       "    .dataframe tbody tr th {\n",
       "        vertical-align: top;\n",
       "    }\n",
       "\n",
       "    .dataframe thead th {\n",
       "        text-align: right;\n",
       "    }\n",
       "</style>\n",
       "<table border=\"1\" class=\"dataframe\">\n",
       "  <thead>\n",
       "    <tr style=\"text-align: right;\">\n",
       "      <th></th>\n",
       "      <th>Price</th>\n",
       "      <th>Make</th>\n",
       "      <th>Model</th>\n",
       "      <th>Year</th>\n",
       "      <th>Body_Sytle</th>\n",
       "      <th>City</th>\n",
       "      <th>State</th>\n",
       "      <th>Milage</th>\n",
       "      <th>Seller_Type</th>\n",
       "      <th>Seller_Review_Score</th>\n",
       "      <th>Number_of_Reviews</th>\n",
       "    </tr>\n",
       "  </thead>\n",
       "  <tbody>\n",
       "    <tr>\n",
       "      <th>0</th>\n",
       "      <td>380000.0</td>\n",
       "      <td>Lamborghini</td>\n",
       "      <td>Aventador S</td>\n",
       "      <td>2018</td>\n",
       "      <td>Convertible</td>\n",
       "      <td>New York</td>\n",
       "      <td>NY</td>\n",
       "      <td>3800</td>\n",
       "      <td>Individual Seller</td>\n",
       "      <td>0</td>\n",
       "      <td>0</td>\n",
       "    </tr>\n",
       "    <tr>\n",
       "      <th>1</th>\n",
       "      <td>181995.0</td>\n",
       "      <td>Audi</td>\n",
       "      <td>R8</td>\n",
       "      <td>2018</td>\n",
       "      <td>Convertible</td>\n",
       "      <td>New York</td>\n",
       "      <td>NY</td>\n",
       "      <td>93</td>\n",
       "      <td>Individual Seller</td>\n",
       "      <td>0</td>\n",
       "      <td>0</td>\n",
       "    </tr>\n",
       "    <tr>\n",
       "      <th>2</th>\n",
       "      <td>4400.0</td>\n",
       "      <td>Subaru</td>\n",
       "      <td>Legacy</td>\n",
       "      <td>2010</td>\n",
       "      <td>Sedan</td>\n",
       "      <td>New York</td>\n",
       "      <td>NY</td>\n",
       "      <td>153736</td>\n",
       "      <td>Individual Seller</td>\n",
       "      <td>0</td>\n",
       "      <td>0</td>\n",
       "    </tr>\n",
       "    <tr>\n",
       "      <th>3</th>\n",
       "      <td>82000.0</td>\n",
       "      <td>Cadillac</td>\n",
       "      <td>Escalade ESV</td>\n",
       "      <td>2019</td>\n",
       "      <td>SUV</td>\n",
       "      <td>New York</td>\n",
       "      <td>NY</td>\n",
       "      <td>16100</td>\n",
       "      <td>Individual Seller</td>\n",
       "      <td>0</td>\n",
       "      <td>0</td>\n",
       "    </tr>\n",
       "    <tr>\n",
       "      <th>4</th>\n",
       "      <td>51500.0</td>\n",
       "      <td>Land Rover</td>\n",
       "      <td>Range Rover Velar</td>\n",
       "      <td>2018</td>\n",
       "      <td>SUV</td>\n",
       "      <td>New York</td>\n",
       "      <td>NY</td>\n",
       "      <td>16000</td>\n",
       "      <td>Individual Seller</td>\n",
       "      <td>0</td>\n",
       "      <td>0</td>\n",
       "    </tr>\n",
       "  </tbody>\n",
       "</table>\n",
       "</div>"
      ],
      "text/plain": [
       "      Price         Make              Model  Year   Body_Sytle      City  \\\n",
       "0  380000.0  Lamborghini        Aventador S  2018  Convertible  New York   \n",
       "1  181995.0         Audi                 R8  2018  Convertible  New York   \n",
       "2    4400.0       Subaru             Legacy  2010        Sedan  New York   \n",
       "3   82000.0     Cadillac       Escalade ESV  2019          SUV  New York   \n",
       "4   51500.0   Land Rover  Range Rover Velar  2018          SUV  New York   \n",
       "\n",
       "  State  Milage        Seller_Type Seller_Review_Score Number_of_Reviews  \n",
       "0    NY    3800  Individual Seller                   0                 0  \n",
       "1    NY      93  Individual Seller                   0                 0  \n",
       "2    NY  153736  Individual Seller                   0                 0  \n",
       "3    NY   16100  Individual Seller                   0                 0  \n",
       "4    NY   16000  Individual Seller                   0                 0  "
      ]
     },
     "execution_count": 94,
     "metadata": {},
     "output_type": "execute_result"
    }
   ],
   "source": [
    "df1.head()"
   ]
  },
  {
   "cell_type": "code",
   "execution_count": 99,
   "metadata": {},
   "outputs": [
    {
     "data": {
      "text/plain": [
       "Price                   Int64\n",
       "Make                   string\n",
       "Model                  string\n",
       "Year                   string\n",
       "Body_Sytle             string\n",
       "City                   string\n",
       "State                  string\n",
       "Milage                 string\n",
       "Seller_Type            string\n",
       "Seller_Review_Score    string\n",
       "Number_of_Reviews      string\n",
       "dtype: object"
      ]
     },
     "execution_count": 99,
     "metadata": {},
     "output_type": "execute_result"
    }
   ],
   "source": [
    "df1.convert_dtypes().dtypes\n"
   ]
  },
  {
   "cell_type": "code",
   "execution_count": 100,
   "metadata": {},
   "outputs": [],
   "source": [
    "def clean_price(df, new_df):\n",
    "    container = []\n",
    "    for i in range(len(df)):\n",
    "        container.append((df[0][i]))\n",
    "    new_df['Price'] = container\n",
    "    pass\n",
    "\n",
    "def car_make(df,new_df):\n",
    "    container = []\n",
    "    for i in range(len(df)):\n",
    "        make = df[1][i]\n",
    "        container.append(make)\n",
    "    new_df[\"Make\"] = container\n",
    "    pass\n",
    "\n",
    "def car_model(df,new_df):\n",
    "    container = []\n",
    "    for i in range(len(df)):\n",
    "        model = df[2][i]\n",
    "        container.append((model))\n",
    "    new_df['Model'] = container\n",
    "    pass\n",
    "\n",
    "def what_year(df,new_df):\n",
    "    container = []\n",
    "    for i in range(len(df)):\n",
    "        container.append(((df[3][i])))\n",
    "    new_df['Year'] = container\n",
    "    pass\n",
    "\n",
    "def bodyz(df, new_df):\n",
    "    container = []\n",
    "    for i in range(len(df)):\n",
    "        container.append(df[4][i])\n",
    "    new_df['Body_Style'] = container\n",
    "    pass\n",
    "\n",
    "def what_city(df, new_df):\n",
    "    container = []\n",
    "    for i in range(len(df)):\n",
    "        container.append((df[6][i]))\n",
    "    new_df['City'] = container\n",
    "    pass\n",
    "\n",
    "def what_state(df, new_df):\n",
    "    container = []\n",
    "    for i in range(len(df)):\n",
    "        container.append((df[7][i]))\n",
    "    new_df['State'] = container\n",
    "    pass\n",
    "\n",
    "def clean_miles(df, new_df):\n",
    "    container = []\n",
    "    for i in range(len(df)):\n",
    "        container.append((df[8][i]))\n",
    "    new_df['Miles'] = container\n",
    "    pass\n",
    "\n",
    "def seller_label(df, new_df):\n",
    "    container = []\n",
    "    for i in range(len(df)):\n",
    "        container.append((df[9][i]))\n",
    "    new_df['Seller_Type'] = container\n",
    "    pass\n",
    "\n",
    "def seller_rating(df, new_df):\n",
    "    container = []\n",
    "    for i in range(len(df)):\n",
    "        container.append((df[10][i]))\n",
    "    new_df['Seller_Rating'] = container\n",
    "    pass\n",
    "\n",
    "def seller_rating_count(df, new_df):\n",
    "    container = []\n",
    "    for i in range(len(df)):\n",
    "        container.append((df[11][i]))\n",
    "    new_df['NUmber_of_Ratings'] = container\n",
    "    pass\n"
   ]
  },
  {
   "cell_type": "code",
   "execution_count": 101,
   "metadata": {},
   "outputs": [],
   "source": [
    "def super_clean(df, new_df):\n",
    "    clean_price(df, new_df)\n",
    "    print('-0000000000')\n",
    "    car_make(df, new_df)\n",
    "    print('--0000000000')\n",
    "    car_model(df, new_df)\n",
    "    print('---00000000')\n",
    "    what_year(df,new_df)\n",
    "    print('----0000000')\n",
    "    bodyz(df, new_df)\n",
    "    print('-----000000')\n",
    "    what_city(df,new_df)\n",
    "    print('------00000')\n",
    "    what_state(df, new_df)\n",
    "    print('-------0000')\n",
    "    clean_miles(df,new_df)\n",
    "    print('--------000')\n",
    "    seller_label(df, new_df)\n",
    "    print('---------00')\n",
    "    seller_rating(df, new_df)\n",
    "    print('----------0')\n",
    "    seller_rating_count(df,new_df)\n",
    "    print('----------- done!')\n",
    "    pass"
   ]
  },
  {
   "cell_type": "code",
   "execution_count": 102,
   "metadata": {},
   "outputs": [],
   "source": [
    "#super_clean(all_data,cars_test)\n",
    "#all_data.to_csv('all_data.csv')\n",
    "#Price,Make,Model,Year,Body_Sytle,City,State,Milage,Seller_Type,Seller_Review_Score,Number_of_Reviews"
   ]
  },
  {
   "cell_type": "code",
   "execution_count": null,
   "metadata": {},
   "outputs": [],
   "source": [
    "print(cars_test.head())"
   ]
  },
  {
   "cell_type": "code",
   "execution_count": 85,
   "metadata": {},
   "outputs": [
    {
     "data": {
      "text/plain": [
       "0     object\n",
       "1     object\n",
       "2     object\n",
       "3     object\n",
       "4     object\n",
       "5     object\n",
       "6     object\n",
       "7     object\n",
       "8     object\n",
       "9     object\n",
       "10    object\n",
       "dtype: object"
      ]
     },
     "execution_count": 85,
     "metadata": {},
     "output_type": "execute_result"
    }
   ],
   "source": [
    "df1.dtypes"
   ]
  },
  {
   "cell_type": "code",
   "execution_count": 114,
   "metadata": {},
   "outputs": [
    {
     "name": "stdout",
     "output_type": "stream",
     "text": [
      "1048575\n",
      "1048496\n",
      "969392\n"
     ]
    }
   ],
   "source": [
    "print(len(df1))\n",
    "no_dups = df1.drop_duplicates()\n",
    "no_nan = no_dups.dropna()\n",
    "print(len(no_dups))\n",
    "print(len(no_nan))"
   ]
  },
  {
   "cell_type": "code",
   "execution_count": 115,
   "metadata": {},
   "outputs": [
    {
     "name": "stdout",
     "output_type": "stream",
     "text": [
      "            Price         Make              Model  Year   Body_Sytle  \\\n",
      "0        380000.0  Lamborghini        Aventador S  2018  Convertible   \n",
      "1        181995.0         Audi                 R8  2018  Convertible   \n",
      "2          4400.0       Subaru             Legacy  2010        Sedan   \n",
      "3         82000.0     Cadillac       Escalade ESV  2019          SUV   \n",
      "4         51500.0   Land Rover  Range Rover Velar  2018          SUV   \n",
      "...           ...          ...                ...   ...          ...   \n",
      "1048570   24950.0     Chrysler           Pacifica  2017      Minivan   \n",
      "1048571   24875.0         Jeep     Grand Cherokee  2017          SUV   \n",
      "1048572   23987.0    Chevrolet            Equinox  2020          SUV   \n",
      "1048573   23899.0     Cadillac                XTS  2019        Sedan   \n",
      "1048574   23621.0    Chevrolet            Equinox  2020          SUV   \n",
      "\n",
      "             City State  Milage        Seller_Type Seller_Review_Score  \\\n",
      "0        New York    NY    3800  Individual Seller                   0   \n",
      "1        New York    NY      93  Individual Seller                   0   \n",
      "2        New York    NY  153736  Individual Seller                   0   \n",
      "3        New York    NY   16100  Individual Seller                   0   \n",
      "4        New York    NY   16000  Individual Seller                   0   \n",
      "...           ...   ...     ...                ...                 ...   \n",
      "1048570    Camden    TN   35809             Dealer                 3.8   \n",
      "1048571    Camden    TN   71506             Dealer                 3.8   \n",
      "1048572    Camden    TN      10             Dealer                 3.8   \n",
      "1048573    Camden    TN   32769             Dealer                 3.8   \n",
      "1048574    Camden    TN      10             Dealer                 3.8   \n",
      "\n",
      "        Number_of_Reviews  \n",
      "0                       0  \n",
      "1                       0  \n",
      "2                       0  \n",
      "3                       0  \n",
      "4                       0  \n",
      "...                   ...  \n",
      "1048570                 8  \n",
      "1048571                 8  \n",
      "1048572                 8  \n",
      "1048573                 8  \n",
      "1048574                 8  \n",
      "\n",
      "[969392 rows x 11 columns]\n"
     ]
    }
   ],
   "source": [
    "no_nan.dtypes\n",
    "print(no_nan)"
   ]
  },
  {
   "cell_type": "code",
   "execution_count": null,
   "metadata": {},
   "outputs": [],
   "source": []
  },
  {
   "cell_type": "code",
   "execution_count": 116,
   "metadata": {},
   "outputs": [
    {
     "data": {
      "image/png": "[encoded data removed]",
      "text/plain": [
       "<Figure size 720x360 with 1 Axes>"
      ]
     },
     "metadata": {},
     "output_type": "display_data"
    }
   ],
   "source": [
    "import matplotlib.pyplot as plt\n",
    "%matplotlib inline\n",
    "plt.style.use('ggplot')\n",
    "\n",
    "df_mazda = no_nan[no_nan['Make'] == 'Mazda']\n",
    "df_mercedes = no_nan[no_nan['Make'] == 'Mercedes-Benz']\n",
    "df_bmw =no_nan[no_nan['Make'] == 'BMW']\n",
    "df_toyota =no_nan[no_nan['Make'] == 'Toyota']\n",
    "df_ford = no_nan[no_nan['Make'] == 'Ford']\n",
    "df_nissian = no_nan[no_nan['Make'] == 'Nissan']\n",
    "df_dodge= no_nan[no_nan['Make'] == 'Dodge']\n",
    "df_honda = no_nan[no_nan['Make'] == 'Honda']\n",
    "df_audi = no_nan[no_nan['Make'] == 'Audi']\n",
    "df_chevy = no_nan[no_nan['Make'] == 'Chevrolet']\n",
    "top_ten = pd.concat([df_mercedes,df_bmw,df_chevy,df_audi,df_honda,df_dodge,df_nissian,df_ford,df_toyota,df_mazda])\n",
    "\n",
    "#plt.ylim(0, 10)\n",
    "top_ten.plot.scatter(x = 'Make',y=('Price'), figsize=(10,5), alpha=.3)\n",
    "plt.savefig('top_ten.png')"
   ]
  },
  {
   "cell_type": "code",
   "execution_count": 117,
   "metadata": {},
   "outputs": [
    {
     "data": {
      "text/html": [
       "<div>\n",
       "<style scoped>\n",
       "    .dataframe tbody tr th:only-of-type {\n",
       "        vertical-align: middle;\n",
       "    }\n",
       "\n",
       "    .dataframe tbody tr th {\n",
       "        vertical-align: top;\n",
       "    }\n",
       "\n",
       "    .dataframe thead th {\n",
       "        text-align: right;\n",
       "    }\n",
       "</style>\n",
       "<table border=\"1\" class=\"dataframe\">\n",
       "  <thead>\n",
       "    <tr style=\"text-align: right;\">\n",
       "      <th></th>\n",
       "      <th>Price</th>\n",
       "    </tr>\n",
       "  </thead>\n",
       "  <tbody>\n",
       "    <tr>\n",
       "      <th>count</th>\n",
       "      <td>24080.000000</td>\n",
       "    </tr>\n",
       "    <tr>\n",
       "      <th>mean</th>\n",
       "      <td>38450.118729</td>\n",
       "    </tr>\n",
       "    <tr>\n",
       "      <th>std</th>\n",
       "      <td>21896.093339</td>\n",
       "    </tr>\n",
       "    <tr>\n",
       "      <th>min</th>\n",
       "      <td>500.000000</td>\n",
       "    </tr>\n",
       "    <tr>\n",
       "      <th>25%</th>\n",
       "      <td>24995.000000</td>\n",
       "    </tr>\n",
       "    <tr>\n",
       "      <th>50%</th>\n",
       "      <td>35200.000000</td>\n",
       "    </tr>\n",
       "    <tr>\n",
       "      <th>75%</th>\n",
       "      <td>46690.000000</td>\n",
       "    </tr>\n",
       "    <tr>\n",
       "      <th>max</th>\n",
       "      <td>436930.000000</td>\n",
       "    </tr>\n",
       "  </tbody>\n",
       "</table>\n",
       "</div>"
      ],
      "text/plain": [
       "               Price\n",
       "count   24080.000000\n",
       "mean    38450.118729\n",
       "std     21896.093339\n",
       "min       500.000000\n",
       "25%     24995.000000\n",
       "50%     35200.000000\n",
       "75%     46690.000000\n",
       "max    436930.000000"
      ]
     },
     "execution_count": 117,
     "metadata": {},
     "output_type": "execute_result"
    }
   ],
   "source": [
    "\n",
    "\n",
    "common = pd.concat([df_mazda,df_toyota])\n",
    "lux = pd.concat([df_mercedes,df_bmw])\n",
    "df_bmw.describe()"
   ]
  },
  {
   "cell_type": "code",
   "execution_count": 124,
   "metadata": {},
   "outputs": [
    {
     "data": {
      "image/png": "[encoded data removed]",
      "text/plain": [
       "<Figure size 432x288 with 1 Axes>"
      ]
     },
     "metadata": {},
     "output_type": "display_data"
    }
   ],
   "source": [
    "fig, ax1 = plt.subplots()\n",
    "ax1.hist([df_mazda['Price'],df_toyota['Price']], label = ['Mazda', 'Toyota'], bins=20)\n",
    "ax1.legend(loc='upper right')\n",
    "ax1.set_xlabel('Price (USD $)')\n",
    "ax1.set_ylabel('Frequency')\n",
    "\n",
    "\n",
    "plt.savefig('mazda_toyota.png')\n",
    "plt.show()"
   ]
  },
  {
   "cell_type": "code",
   "execution_count": 109,
   "metadata": {},
   "outputs": [
    {
     "data": {
      "image/png": "[encoded data removed]",
      "text/plain": [
       "<Figure size 432x288 with 1 Axes>"
      ]
     },
     "metadata": {},
     "output_type": "display_data"
    }
   ],
   "source": [
    "fig, ax1 = plt.subplots()\n",
    "ax1.hist([df_mercedes['Price'],df_bmw['Price']], label = ['Mercedes-Benz', 'BMW'], bins=10)\n",
    "ax1.legend(loc='upper right')\n",
    "ax1.set_xlabel('Price (USD $)')\n",
    "ax1.set_ylabel('Frequency')\n",
    "#ax1.set_xlim(0,100000)\n",
    "\n",
    "plt.savefig('bmw_mercedes2.png')\n",
    "plt.show()"
   ]
  },
  {
   "cell_type": "code",
   "execution_count": 125,
   "metadata": {},
   "outputs": [
    {
     "name": "stdout",
     "output_type": "stream",
     "text": [
      "Ttest_indResult(statistic=9.615943176132319, pvalue=7.008446262557313e-22)\n"
     ]
    },
    {
     "data": {
      "image/png": "[encoded data removed]",
      "text/plain": [
       "<Figure size 432x288 with 1 Axes>"
      ]
     },
     "metadata": {},
     "output_type": "display_data"
    }
   ],
   "source": [
    "import scipy.stats as stats\n",
    "\n",
    "common_mean = common['Price'].mean()\n",
    "common_std = common['Price'].std()\n",
    "x = common_mean + common_std * np.random.randn(889)\n",
    "bins = 60\n",
    "fig, ax = plt.subplots()\n",
    "n, bins, patches = ax.hist(x, bins, density=1)\n",
    "\n",
    "y = ((1 / (np.sqrt(2 * np.pi) * common_std)) *\n",
    "     np.exp(-0.5 * (1 / common_std * (bins - common_mean))**2))\n",
    "\n",
    "ax.plot(bins, y, '--')\n",
    "ax.set_xlabel('Price of Common (USD $)')\n",
    "\n",
    "#t test for mazada mean vs toyota\n",
    "print(stats.ttest_ind(df_toyota['Price'],df_mazda['Price']))\n",
    "plt.savefig('normal_using_common.png')"
   ]
  },
  {
   "cell_type": "code",
   "execution_count": 126,
   "metadata": {},
   "outputs": [
    {
     "data": {
      "image/png": "[encoded data removed]",
      "text/plain": [
       "<Figure size 432x288 with 1 Axes>"
      ]
     },
     "metadata": {},
     "output_type": "display_data"
    }
   ],
   "source": [
    "lux_mean = lux['Price'].mean()\n",
    "lux_std = lux['Price'].std()\n",
    "x = lux_mean + lux_std * np.random.randn(786)\n",
    "bins = 60\n",
    "fig, ax = plt.subplots()\n",
    "n, bins, patches = ax.hist(x, bins, density=1)\n",
    "\n",
    "y = ((1 / (np.sqrt(2 * np.pi) * lux_std)) *\n",
    "     np.exp(-0.5 * (1 / lux_std * (bins - lux_mean))**2))\n",
    "\n",
    "ax.plot(bins, y, '--')\n",
    "ax.set_xlabel('Price of Luxury (USD $)')\n",
    "plt.savefig('normal_using_lux.png')"
   ]
  },
  {
   "cell_type": "code",
   "execution_count": 113,
   "metadata": {},
   "outputs": [
    {
     "name": "stdout",
     "output_type": "stream",
     "text": [
      "Ttest_indResult(statistic=-34.052332543238236, pvalue=2.1451039665134773e-251)\n",
      "Ttest_indResult(statistic=84.10728100196897, pvalue=0.0)\n"
     ]
    }
   ],
   "source": [
    "# I'm under the impression that the price of one car effects the price of another\n",
    "print(stats.ttest_ind(df_bmw['Price'],df_mercedes['Price']))\n",
    "print(stats.ttest_ind(df_bmw['Price'],df_mazda['Price']))\n"
   ]
  },
  {
   "cell_type": "code",
   "execution_count": 127,
   "metadata": {},
   "outputs": [],
   "source": [
    "no_nan.to_csv('no_dups.csv')"
   ]
  },
  {
   "cell_type": "code",
   "execution_count": null,
   "metadata": {},
   "outputs": [],
   "source": []
  }
 ],
 "metadata": {
  "kernelspec": {
   "display_name": "Python 3",
   "language": "python",
   "name": "python3"
  },
  "language_info": {
   "codemirror_mode": {
    "name": "ipython",
    "version": 3
   },
   "file_extension": ".py",
   "mimetype": "text/x-python",
   "name": "python",
   "nbconvert_exporter": "python",
   "pygments_lexer": "ipython3",
   "version": "3.7.6"
  }
 },
 "nbformat": 4,
 "nbformat_minor": 4
}
