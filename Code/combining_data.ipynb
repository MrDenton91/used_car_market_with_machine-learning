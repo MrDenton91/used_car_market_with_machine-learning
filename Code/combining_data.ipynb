{
 "cells": [
  {
   "cell_type": "code",
   "execution_count": 18,
   "metadata": {},
   "outputs": [],
   "source": [
    "import pandas as pd\n",
    "import numpy as np\n"
   ]
  },
  {
   "cell_type": "code",
   "execution_count": 19,
   "metadata": {},
   "outputs": [],
   "source": [
    "colnames = ['Price', 'Make', \"Model\", 'Year', 'Body Style', 'City', 'State', 'Milage', 'Color']\n",
    "data1 = pd.read_csv('carlist1.csv', low_memory=False, names=colnames, header=None)\n",
    "data2 = pd.read_csv('carlist2.csv', low_memory=False, names=colnames, header=None)\n",
    "data3 = pd.read_csv('carlist3.csv', low_memory=False, names=colnames, header=None)\n",
    "data4 = pd.read_csv('carlist4.csv', low_memory=False, names=colnames, header=None)\n",
    "data5 = pd.read_csv('carlist5.csv', low_memory=False, names=colnames, header=None)\n",
    "data6 = pd.read_csv('carlist6.csv', low_memory=False, names=colnames, header=None)\n",
    "data7 = pd.read_csv('carlist7.csv', low_memory=False, names=colnames, header=None)\n",
    "data8 = pd.read_csv('carlist8.csv', low_memory=False, names=colnames, header=None)\n",
    "data9 = pd.read_csv('carlist9.csv', low_memory=False, names=colnames, header=None)\n",
    "data10 = pd.read_csv('carlist10.csv', low_memory=False, names=colnames, header=None)\n",
    "data11 = pd.read_csv('carlist11.csv', low_memory=False, names=colnames, header=None)\n",
    "data12 = pd.read_csv('carlist12.csv', low_memory=False, names=colnames, header=None)\n",
    "data13 = pd.read_csv('carlist13.csv', low_memory=False, names=colnames, header=None)\n",
    "data14 = pd.read_csv('carlist14.csv', low_memory=False, names=colnames, header=None)\n",
    "data15 = pd.read_csv('carlist15.csv', low_memory=False, names=colnames, header=None)\n",
    "data16 = pd.read_csv('carlist16.csv', low_memory=False, names=colnames, header=None)\n",
    "data17 = pd.read_csv('carlist17.csv', low_memory=False, names=colnames, header=None)\n",
    "data18 = pd.read_csv('carlist18.csv', low_memory=False, names=colnames, header=None)\n",
    "data19 = pd.read_csv('carlist19.csv', low_memory=False, names=colnames, header=None)\n",
    "data20 = pd.read_csv('carlist20.csv', low_memory=False, names=colnames, header=None)"
   ]
  },
  {
   "cell_type": "code",
   "execution_count": 20,
   "metadata": {},
   "outputs": [],
   "source": [
    "frames = [data1, data2, data3, data4, data5, data6, data7, data8, data9, data10, data11, data12, data13, data14, data15, data16, data17, data18, data19, data20]\n",
    "all_data = pd.concat(frames)"
   ]
  },
  {
   "cell_type": "code",
   "execution_count": 21,
   "metadata": {},
   "outputs": [
    {
     "data": {
      "text/html": [
       "<div>\n",
       "<style scoped>\n",
       "    .dataframe tbody tr th:only-of-type {\n",
       "        vertical-align: middle;\n",
       "    }\n",
       "\n",
       "    .dataframe tbody tr th {\n",
       "        vertical-align: top;\n",
       "    }\n",
       "\n",
       "    .dataframe thead th {\n",
       "        text-align: right;\n",
       "    }\n",
       "</style>\n",
       "<table border=\"1\" class=\"dataframe\">\n",
       "  <thead>\n",
       "    <tr style=\"text-align: right;\">\n",
       "      <th></th>\n",
       "      <th>Price</th>\n",
       "      <th>Make</th>\n",
       "      <th>Model</th>\n",
       "      <th>Year</th>\n",
       "      <th>Body Style</th>\n",
       "      <th>City</th>\n",
       "      <th>State</th>\n",
       "      <th>Milage</th>\n",
       "      <th>Color</th>\n",
       "    </tr>\n",
       "  </thead>\n",
       "  <tbody>\n",
       "    <tr>\n",
       "      <th>0</th>\n",
       "      <td>364888.0</td>\n",
       "      <td>Lamborghini</td>\n",
       "      <td>Aventador S</td>\n",
       "      <td>2018</td>\n",
       "      <td>Convertible</td>\n",
       "      <td>New York</td>\n",
       "      <td>NY</td>\n",
       "      <td>3800.0</td>\n",
       "      <td>White</td>\n",
       "    </tr>\n",
       "    <tr>\n",
       "      <th>1</th>\n",
       "      <td>21000.0</td>\n",
       "      <td>Land Rover</td>\n",
       "      <td>Range Rover</td>\n",
       "      <td>2011</td>\n",
       "      <td>SUV</td>\n",
       "      <td>New York</td>\n",
       "      <td>NY</td>\n",
       "      <td>66000.0</td>\n",
       "      <td>Black</td>\n",
       "    </tr>\n",
       "    <tr>\n",
       "      <th>2</th>\n",
       "      <td>51500.0</td>\n",
       "      <td>Land Rover</td>\n",
       "      <td>Range Rover Velar</td>\n",
       "      <td>2018</td>\n",
       "      <td>SUV</td>\n",
       "      <td>New York</td>\n",
       "      <td>NY</td>\n",
       "      <td>16000.0</td>\n",
       "      <td>Blue</td>\n",
       "    </tr>\n",
       "    <tr>\n",
       "      <th>3</th>\n",
       "      <td>70000.0</td>\n",
       "      <td>BMW</td>\n",
       "      <td>M3</td>\n",
       "      <td>2017</td>\n",
       "      <td>Sedan</td>\n",
       "      <td>New York</td>\n",
       "      <td>NY</td>\n",
       "      <td>7400.0</td>\n",
       "      <td>Blue</td>\n",
       "    </tr>\n",
       "    <tr>\n",
       "      <th>4</th>\n",
       "      <td>16899.0</td>\n",
       "      <td>BMW</td>\n",
       "      <td>535</td>\n",
       "      <td>2013</td>\n",
       "      <td>Sedan</td>\n",
       "      <td>New York</td>\n",
       "      <td>NY</td>\n",
       "      <td>63000.0</td>\n",
       "      <td>Black</td>\n",
       "    </tr>\n",
       "  </tbody>\n",
       "</table>\n",
       "</div>"
      ],
      "text/plain": [
       "      Price         Make              Model  Year   Body Style      City  \\\n",
       "0  364888.0  Lamborghini        Aventador S  2018  Convertible  New York   \n",
       "1   21000.0   Land Rover        Range Rover  2011          SUV  New York   \n",
       "2   51500.0   Land Rover  Range Rover Velar  2018          SUV  New York   \n",
       "3   70000.0          BMW                 M3  2017        Sedan  New York   \n",
       "4   16899.0          BMW                535  2013        Sedan  New York   \n",
       "\n",
       "  State   Milage  Color  \n",
       "0    NY   3800.0  White  \n",
       "1    NY  66000.0  Black  \n",
       "2    NY  16000.0   Blue  \n",
       "3    NY   7400.0   Blue  \n",
       "4    NY  63000.0  Black  "
      ]
     },
     "execution_count": 21,
     "metadata": {},
     "output_type": "execute_result"
    }
   ],
   "source": [
    "all_data.head()"
   ]
  },
  {
   "cell_type": "code",
   "execution_count": 22,
   "metadata": {},
   "outputs": [
    {
     "data": {
      "text/plain": [
       "Price         float64\n",
       "Make           object\n",
       "Model          object\n",
       "Year           object\n",
       "Body Style     object\n",
       "City           object\n",
       "State          object\n",
       "Milage        float64\n",
       "Color          object\n",
       "dtype: object"
      ]
     },
     "execution_count": 22,
     "metadata": {},
     "output_type": "execute_result"
    }
   ],
   "source": [
    "all_data.dtypes"
   ]
  },
  {
   "cell_type": "code",
   "execution_count": 23,
   "metadata": {},
   "outputs": [
    {
     "name": "stdout",
     "output_type": "stream",
     "text": [
      "6701309\n",
      "538904\n",
      "464558\n"
     ]
    }
   ],
   "source": [
    "print(len(all_data))\n",
    "no_dups = all_data.drop_duplicates()\n",
    "no_nan = no_dups.dropna()\n",
    "print(len(no_dups))\n",
    "print(len(no_nan))"
   ]
  },
  {
   "cell_type": "code",
   "execution_count": 24,
   "metadata": {},
   "outputs": [],
   "source": [
    "no_nan.to_csv('all_data3.csv', index = False)"
   ]
  },
  {
   "cell_type": "code",
   "execution_count": 31,
   "metadata": {},
   "outputs": [
    {
     "data": {
      "text/plain": [
       "array(['Red', 'Blue', 'Black', 'White', 'Orange', 'Silver', 'Gray',\n",
       "       'Yellow', 'Gold', 'Other', 'Green', 'Brown', 'Beige', 'Purple',\n",
       "       'Pink'], dtype=object)"
      ]
     },
     "execution_count": 31,
     "metadata": {},
     "output_type": "execute_result"
    }
   ],
   "source": [
    "no_nan['Color'].unique()"
   ]
  },
  {
   "cell_type": "code",
   "execution_count": 53,
   "metadata": {},
   "outputs": [],
   "source": [
    "df1 = pd.read_csv('all_data.csv',low_memory=False)\n",
    "df2 = pd.read_csv('all_data2.csv',low_memory=False)\n",
    "df3 = pd.read_csv('all_data3.csv',low_memory=False)"
   ]
  },
  {
   "cell_type": "code",
   "execution_count": 54,
   "metadata": {},
   "outputs": [],
   "source": [
    "frames = [df1, df2, df3]\n",
    "all_data = pd.concat(frames)"
   ]
  },
  {
   "cell_type": "code",
   "execution_count": 55,
   "metadata": {},
   "outputs": [
    {
     "name": "stdout",
     "output_type": "stream",
     "text": [
      "1760399\n",
      "1184606\n",
      "1184606\n"
     ]
    }
   ],
   "source": [
    "print(len(all_data))\n",
    "no_dups = all_data.drop_duplicates()\n",
    "no_nan = no_dups.dropna()\n",
    "print(len(no_dups))\n",
    "print(len(no_nan))"
   ]
  },
  {
   "cell_type": "code",
   "execution_count": 60,
   "metadata": {},
   "outputs": [
    {
     "data": {
      "text/plain": [
       "0         1965\n",
       "1         1965\n",
       "2         1994\n",
       "3         1994\n",
       "4         1994\n",
       "          ... \n",
       "464541    2017\n",
       "464542    2014\n",
       "464549    2020\n",
       "464550    2019\n",
       "464552    2017\n",
       "Name: Year, Length: 1184606, dtype: int64"
      ]
     },
     "execution_count": 60,
     "metadata": {},
     "output_type": "execute_result"
    }
   ],
   "source": [
    "no_nan['Age'] = 2020 -  no_nan.Year.astype(int)\n",
    "no_nan.pop('Year')"
   ]
  },
  {
   "cell_type": "code",
   "execution_count": 61,
   "metadata": {},
   "outputs": [
    {
     "data": {
      "text/html": [
       "<div>\n",
       "<style scoped>\n",
       "    .dataframe tbody tr th:only-of-type {\n",
       "        vertical-align: middle;\n",
       "    }\n",
       "\n",
       "    .dataframe tbody tr th {\n",
       "        vertical-align: top;\n",
       "    }\n",
       "\n",
       "    .dataframe thead th {\n",
       "        text-align: right;\n",
       "    }\n",
       "</style>\n",
       "<table border=\"1\" class=\"dataframe\">\n",
       "  <thead>\n",
       "    <tr style=\"text-align: right;\">\n",
       "      <th></th>\n",
       "      <th>Price</th>\n",
       "      <th>Make</th>\n",
       "      <th>Model</th>\n",
       "      <th>Body Style</th>\n",
       "      <th>City</th>\n",
       "      <th>State</th>\n",
       "      <th>Milage</th>\n",
       "      <th>Color</th>\n",
       "      <th>Age</th>\n",
       "    </tr>\n",
       "  </thead>\n",
       "  <tbody>\n",
       "    <tr>\n",
       "      <th>0</th>\n",
       "      <td>49876</td>\n",
       "      <td>AC</td>\n",
       "      <td>Shelby Cobra</td>\n",
       "      <td>Convertible</td>\n",
       "      <td>Matthews</td>\n",
       "      <td>NC</td>\n",
       "      <td>1075</td>\n",
       "      <td>Red</td>\n",
       "      <td>55</td>\n",
       "    </tr>\n",
       "    <tr>\n",
       "      <th>1</th>\n",
       "      <td>44999</td>\n",
       "      <td>AC</td>\n",
       "      <td>Shelby Cobra</td>\n",
       "      <td>Convertible</td>\n",
       "      <td>Nashville</td>\n",
       "      <td>TN</td>\n",
       "      <td>12144</td>\n",
       "      <td>Blue</td>\n",
       "      <td>55</td>\n",
       "    </tr>\n",
       "    <tr>\n",
       "      <th>2</th>\n",
       "      <td>7500</td>\n",
       "      <td>Acura</td>\n",
       "      <td>Integra</td>\n",
       "      <td>Coupe</td>\n",
       "      <td>College Station</td>\n",
       "      <td>TX</td>\n",
       "      <td>153000</td>\n",
       "      <td>Red</td>\n",
       "      <td>26</td>\n",
       "    </tr>\n",
       "    <tr>\n",
       "      <th>3</th>\n",
       "      <td>7500</td>\n",
       "      <td>Acura</td>\n",
       "      <td>Integra</td>\n",
       "      <td>Coupe</td>\n",
       "      <td>College Station</td>\n",
       "      <td>TX</td>\n",
       "      <td>153000</td>\n",
       "      <td>Black</td>\n",
       "      <td>26</td>\n",
       "    </tr>\n",
       "    <tr>\n",
       "      <th>4</th>\n",
       "      <td>7500</td>\n",
       "      <td>Acura</td>\n",
       "      <td>Integra</td>\n",
       "      <td>Coupe</td>\n",
       "      <td>College Station</td>\n",
       "      <td>TX</td>\n",
       "      <td>153000</td>\n",
       "      <td>White</td>\n",
       "      <td>26</td>\n",
       "    </tr>\n",
       "  </tbody>\n",
       "</table>\n",
       "</div>"
      ],
      "text/plain": [
       "   Price   Make         Model   Body Style             City State  Milage  \\\n",
       "0  49876     AC  Shelby Cobra  Convertible         Matthews    NC    1075   \n",
       "1  44999     AC  Shelby Cobra  Convertible        Nashville    TN   12144   \n",
       "2   7500  Acura       Integra        Coupe  College Station    TX  153000   \n",
       "3   7500  Acura       Integra        Coupe  College Station    TX  153000   \n",
       "4   7500  Acura       Integra        Coupe  College Station    TX  153000   \n",
       "\n",
       "   Color  Age  \n",
       "0    Red   55  \n",
       "1   Blue   55  \n",
       "2    Red   26  \n",
       "3  Black   26  \n",
       "4  White   26  "
      ]
     },
     "execution_count": 61,
     "metadata": {},
     "output_type": "execute_result"
    }
   ],
   "source": [
    "no_nan.head()"
   ]
  },
  {
   "cell_type": "code",
   "execution_count": 63,
   "metadata": {},
   "outputs": [
    {
     "data": {
      "text/html": [
       "<div>\n",
       "<style scoped>\n",
       "    .dataframe tbody tr th:only-of-type {\n",
       "        vertical-align: middle;\n",
       "    }\n",
       "\n",
       "    .dataframe tbody tr th {\n",
       "        vertical-align: top;\n",
       "    }\n",
       "\n",
       "    .dataframe thead th {\n",
       "        text-align: right;\n",
       "    }\n",
       "</style>\n",
       "<table border=\"1\" class=\"dataframe\">\n",
       "  <thead>\n",
       "    <tr style=\"text-align: right;\">\n",
       "      <th></th>\n",
       "      <th>Price</th>\n",
       "      <th>Make</th>\n",
       "      <th>Model</th>\n",
       "      <th>Body Style</th>\n",
       "      <th>City</th>\n",
       "      <th>State</th>\n",
       "      <th>Milage</th>\n",
       "      <th>Color</th>\n",
       "      <th>Age</th>\n",
       "    </tr>\n",
       "  </thead>\n",
       "  <tbody>\n",
       "    <tr>\n",
       "      <th>0</th>\n",
       "      <td>49876</td>\n",
       "      <td>AC</td>\n",
       "      <td>Shelby Cobra</td>\n",
       "      <td>Convertible</td>\n",
       "      <td>Matthews</td>\n",
       "      <td>NC</td>\n",
       "      <td>0.000322</td>\n",
       "      <td>Red</td>\n",
       "      <td>0.500000</td>\n",
       "    </tr>\n",
       "    <tr>\n",
       "      <th>1</th>\n",
       "      <td>44999</td>\n",
       "      <td>AC</td>\n",
       "      <td>Shelby Cobra</td>\n",
       "      <td>Convertible</td>\n",
       "      <td>Nashville</td>\n",
       "      <td>TN</td>\n",
       "      <td>0.003643</td>\n",
       "      <td>Blue</td>\n",
       "      <td>0.500000</td>\n",
       "    </tr>\n",
       "    <tr>\n",
       "      <th>2</th>\n",
       "      <td>7500</td>\n",
       "      <td>Acura</td>\n",
       "      <td>Integra</td>\n",
       "      <td>Coupe</td>\n",
       "      <td>College Station</td>\n",
       "      <td>TX</td>\n",
       "      <td>0.045896</td>\n",
       "      <td>Red</td>\n",
       "      <td>0.241071</td>\n",
       "    </tr>\n",
       "    <tr>\n",
       "      <th>3</th>\n",
       "      <td>7500</td>\n",
       "      <td>Acura</td>\n",
       "      <td>Integra</td>\n",
       "      <td>Coupe</td>\n",
       "      <td>College Station</td>\n",
       "      <td>TX</td>\n",
       "      <td>0.045896</td>\n",
       "      <td>Black</td>\n",
       "      <td>0.241071</td>\n",
       "    </tr>\n",
       "    <tr>\n",
       "      <th>4</th>\n",
       "      <td>7500</td>\n",
       "      <td>Acura</td>\n",
       "      <td>Integra</td>\n",
       "      <td>Coupe</td>\n",
       "      <td>College Station</td>\n",
       "      <td>TX</td>\n",
       "      <td>0.045896</td>\n",
       "      <td>White</td>\n",
       "      <td>0.241071</td>\n",
       "    </tr>\n",
       "  </tbody>\n",
       "</table>\n",
       "</div>"
      ],
      "text/plain": [
       "   Price   Make         Model   Body Style             City State    Milage  \\\n",
       "0  49876     AC  Shelby Cobra  Convertible         Matthews    NC  0.000322   \n",
       "1  44999     AC  Shelby Cobra  Convertible        Nashville    TN  0.003643   \n",
       "2   7500  Acura       Integra        Coupe  College Station    TX  0.045896   \n",
       "3   7500  Acura       Integra        Coupe  College Station    TX  0.045896   \n",
       "4   7500  Acura       Integra        Coupe  College Station    TX  0.045896   \n",
       "\n",
       "   Color       Age  \n",
       "0    Red  0.500000  \n",
       "1   Blue  0.500000  \n",
       "2    Red  0.241071  \n",
       "3  Black  0.241071  \n",
       "4  White  0.241071  "
      ]
     },
     "execution_count": 63,
     "metadata": {},
     "output_type": "execute_result"
    }
   ],
   "source": [
    "from sklearn.preprocessing import MinMaxScaler\n",
    "min_max_scaler = MinMaxScaler()\n",
    "\n",
    "no_nan[['Milage', 'Age']] = min_max_scaler.fit_transform(no_nan[['Milage', 'Age']])\n",
    "\n",
    "no_nan.head()"
   ]
  },
  {
   "cell_type": "code",
   "execution_count": 64,
   "metadata": {},
   "outputs": [],
   "source": [
    "no_nan.to_csv('comb_all_data.csv', index = False)"
   ]
  },
  {
   "cell_type": "code",
   "execution_count": 15,
   "metadata": {},
   "outputs": [],
   "source": [
    "import scipy.stats as scs\n",
    "from sklearn.model_selection import train_test_split\n",
    "from sklearn.metrics import mean_squared_error, r2_score, precision_score\n",
    "\n",
    "def eval(model, X, y):\n",
    "    y_prdict = model.predict(X)\n",
    "    rsme = np.sqrt(mean_squared_error(y,y_prdict))\n",
    "    \n",
    "    #precision = precision_score(y,y_prdict)\n",
    "    \n",
    "    y_base = np.ones(len(y))*y.median()\n",
    "    rmse_base = np.sqrt(mean_squared_error(y,y_base))\n",
    "    \n",
    "    print(model)\n",
    "    \n",
    "    print('R2 of model: {:2.2f}'.format(r2_score(y,y_prdict)))\n",
    "    \n",
    "    print('RMSE of model: {:2.2f}'.format(mean_squared_error(y,y_prdict)))\n",
    "    print('Base RMSE: {}'.format(rmse_base))\n",
    "    \n",
    "    print('Normalized RSME (RMSE of predict/RMSE of base) : {:2.2f}'.format(rsme/rmse_base))\n",
    "    return rsme"
   ]
  },
  {
   "cell_type": "code",
   "execution_count": 22,
   "metadata": {},
   "outputs": [
    {
     "ename": "KeyError",
     "evalue": "'Price'",
     "output_type": "error",
     "traceback": [
      "\u001b[1;31m---------------------------------------------------------------------------\u001b[0m",
      "\u001b[1;31mKeyError\u001b[0m                                  Traceback (most recent call last)",
      "\u001b[1;32m~\\anaconda3\\lib\\site-packages\\pandas\\core\\indexes\\base.py\u001b[0m in \u001b[0;36mget_loc\u001b[1;34m(self, key, method, tolerance)\u001b[0m\n\u001b[0;32m   2645\u001b[0m             \u001b[1;32mtry\u001b[0m\u001b[1;33m:\u001b[0m\u001b[1;33m\u001b[0m\u001b[1;33m\u001b[0m\u001b[0m\n\u001b[1;32m-> 2646\u001b[1;33m                 \u001b[1;32mreturn\u001b[0m \u001b[0mself\u001b[0m\u001b[1;33m.\u001b[0m\u001b[0m_engine\u001b[0m\u001b[1;33m.\u001b[0m\u001b[0mget_loc\u001b[0m\u001b[1;33m(\u001b[0m\u001b[0mkey\u001b[0m\u001b[1;33m)\u001b[0m\u001b[1;33m\u001b[0m\u001b[1;33m\u001b[0m\u001b[0m\n\u001b[0m\u001b[0;32m   2647\u001b[0m             \u001b[1;32mexcept\u001b[0m \u001b[0mKeyError\u001b[0m\u001b[1;33m:\u001b[0m\u001b[1;33m\u001b[0m\u001b[1;33m\u001b[0m\u001b[0m\n",
      "\u001b[1;32mpandas\\_libs\\index.pyx\u001b[0m in \u001b[0;36mpandas._libs.index.IndexEngine.get_loc\u001b[1;34m()\u001b[0m\n",
      "\u001b[1;32mpandas\\_libs\\index.pyx\u001b[0m in \u001b[0;36mpandas._libs.index.IndexEngine.get_loc\u001b[1;34m()\u001b[0m\n",
      "\u001b[1;32mpandas\\_libs\\hashtable_class_helper.pxi\u001b[0m in \u001b[0;36mpandas._libs.hashtable.PyObjectHashTable.get_item\u001b[1;34m()\u001b[0m\n",
      "\u001b[1;32mpandas\\_libs\\hashtable_class_helper.pxi\u001b[0m in \u001b[0;36mpandas._libs.hashtable.PyObjectHashTable.get_item\u001b[1;34m()\u001b[0m\n",
      "\u001b[1;31mKeyError\u001b[0m: 'Price'",
      "\nDuring handling of the above exception, another exception occurred:\n",
      "\u001b[1;31mKeyError\u001b[0m                                  Traceback (most recent call last)",
      "\u001b[1;32m<ipython-input-22-69f4add503a0>\u001b[0m in \u001b[0;36m<module>\u001b[1;34m\u001b[0m\n\u001b[0;32m      1\u001b[0m \u001b[0mdummies\u001b[0m \u001b[1;33m=\u001b[0m \u001b[0mno_nan\u001b[0m\u001b[1;33m.\u001b[0m\u001b[0mselect_dtypes\u001b[0m\u001b[1;33m(\u001b[0m\u001b[1;34m'object'\u001b[0m\u001b[1;33m)\u001b[0m\u001b[1;33m.\u001b[0m\u001b[0mcolumns\u001b[0m\u001b[1;33m\u001b[0m\u001b[1;33m\u001b[0m\u001b[0m\n\u001b[1;32m----> 2\u001b[1;33m \u001b[0my\u001b[0m \u001b[1;33m=\u001b[0m \u001b[0mno_nan\u001b[0m\u001b[1;33m.\u001b[0m\u001b[0mpop\u001b[0m\u001b[1;33m(\u001b[0m\u001b[1;34m'Price'\u001b[0m\u001b[1;33m)\u001b[0m\u001b[1;33m\u001b[0m\u001b[1;33m\u001b[0m\u001b[0m\n\u001b[0m\u001b[0;32m      3\u001b[0m \u001b[0mX\u001b[0m \u001b[1;33m=\u001b[0m \u001b[0mpd\u001b[0m\u001b[1;33m.\u001b[0m\u001b[0mget_dummies\u001b[0m\u001b[1;33m(\u001b[0m\u001b[0mno_nan\u001b[0m\u001b[1;33m,\u001b[0m \u001b[0mcolumns\u001b[0m \u001b[1;33m=\u001b[0m \u001b[0mdummies\u001b[0m\u001b[1;33m,\u001b[0m \u001b[0mdummy_na\u001b[0m \u001b[1;33m=\u001b[0m \u001b[1;32mTrue\u001b[0m\u001b[1;33m,\u001b[0m \u001b[0mprefix\u001b[0m\u001b[1;33m=\u001b[0m\u001b[0mdummies\u001b[0m\u001b[1;33m)\u001b[0m\u001b[1;33m\u001b[0m\u001b[1;33m\u001b[0m\u001b[0m\n\u001b[0;32m      4\u001b[0m \u001b[1;33m\u001b[0m\u001b[0m\n\u001b[0;32m      5\u001b[0m \u001b[0mX_train\u001b[0m\u001b[1;33m,\u001b[0m \u001b[0mX_test\u001b[0m\u001b[1;33m,\u001b[0m \u001b[0my_train\u001b[0m\u001b[1;33m,\u001b[0m \u001b[0my_test\u001b[0m \u001b[1;33m=\u001b[0m \u001b[0mtrain_test_split\u001b[0m\u001b[1;33m(\u001b[0m\u001b[0mX\u001b[0m \u001b[1;33m,\u001b[0m \u001b[0my\u001b[0m\u001b[1;33m,\u001b[0m \u001b[0mtest_size\u001b[0m\u001b[1;33m=\u001b[0m\u001b[1;36m0.20\u001b[0m\u001b[1;33m,\u001b[0m \u001b[0mrandom_state\u001b[0m \u001b[1;33m=\u001b[0m \u001b[1;36m10\u001b[0m\u001b[1;33m)\u001b[0m\u001b[1;33m\u001b[0m\u001b[1;33m\u001b[0m\u001b[0m\n",
      "\u001b[1;32m~\\anaconda3\\lib\\site-packages\\pandas\\core\\generic.py\u001b[0m in \u001b[0;36mpop\u001b[1;34m(self, item)\u001b[0m\n\u001b[0;32m    788\u001b[0m         \u001b[1;36m3\u001b[0m  \u001b[0mmonkey\u001b[0m        \u001b[0mNaN\u001b[0m\u001b[1;33m\u001b[0m\u001b[1;33m\u001b[0m\u001b[0m\n\u001b[0;32m    789\u001b[0m         \"\"\"\n\u001b[1;32m--> 790\u001b[1;33m         \u001b[0mresult\u001b[0m \u001b[1;33m=\u001b[0m \u001b[0mself\u001b[0m\u001b[1;33m[\u001b[0m\u001b[0mitem\u001b[0m\u001b[1;33m]\u001b[0m\u001b[1;33m\u001b[0m\u001b[1;33m\u001b[0m\u001b[0m\n\u001b[0m\u001b[0;32m    791\u001b[0m         \u001b[1;32mdel\u001b[0m \u001b[0mself\u001b[0m\u001b[1;33m[\u001b[0m\u001b[0mitem\u001b[0m\u001b[1;33m]\u001b[0m\u001b[1;33m\u001b[0m\u001b[1;33m\u001b[0m\u001b[0m\n\u001b[0;32m    792\u001b[0m         \u001b[1;32mtry\u001b[0m\u001b[1;33m:\u001b[0m\u001b[1;33m\u001b[0m\u001b[1;33m\u001b[0m\u001b[0m\n",
      "\u001b[1;32m~\\anaconda3\\lib\\site-packages\\pandas\\core\\frame.py\u001b[0m in \u001b[0;36m__getitem__\u001b[1;34m(self, key)\u001b[0m\n\u001b[0;32m   2798\u001b[0m             \u001b[1;32mif\u001b[0m \u001b[0mself\u001b[0m\u001b[1;33m.\u001b[0m\u001b[0mcolumns\u001b[0m\u001b[1;33m.\u001b[0m\u001b[0mnlevels\u001b[0m \u001b[1;33m>\u001b[0m \u001b[1;36m1\u001b[0m\u001b[1;33m:\u001b[0m\u001b[1;33m\u001b[0m\u001b[1;33m\u001b[0m\u001b[0m\n\u001b[0;32m   2799\u001b[0m                 \u001b[1;32mreturn\u001b[0m \u001b[0mself\u001b[0m\u001b[1;33m.\u001b[0m\u001b[0m_getitem_multilevel\u001b[0m\u001b[1;33m(\u001b[0m\u001b[0mkey\u001b[0m\u001b[1;33m)\u001b[0m\u001b[1;33m\u001b[0m\u001b[1;33m\u001b[0m\u001b[0m\n\u001b[1;32m-> 2800\u001b[1;33m             \u001b[0mindexer\u001b[0m \u001b[1;33m=\u001b[0m \u001b[0mself\u001b[0m\u001b[1;33m.\u001b[0m\u001b[0mcolumns\u001b[0m\u001b[1;33m.\u001b[0m\u001b[0mget_loc\u001b[0m\u001b[1;33m(\u001b[0m\u001b[0mkey\u001b[0m\u001b[1;33m)\u001b[0m\u001b[1;33m\u001b[0m\u001b[1;33m\u001b[0m\u001b[0m\n\u001b[0m\u001b[0;32m   2801\u001b[0m             \u001b[1;32mif\u001b[0m \u001b[0mis_integer\u001b[0m\u001b[1;33m(\u001b[0m\u001b[0mindexer\u001b[0m\u001b[1;33m)\u001b[0m\u001b[1;33m:\u001b[0m\u001b[1;33m\u001b[0m\u001b[1;33m\u001b[0m\u001b[0m\n\u001b[0;32m   2802\u001b[0m                 \u001b[0mindexer\u001b[0m \u001b[1;33m=\u001b[0m \u001b[1;33m[\u001b[0m\u001b[0mindexer\u001b[0m\u001b[1;33m]\u001b[0m\u001b[1;33m\u001b[0m\u001b[1;33m\u001b[0m\u001b[0m\n",
      "\u001b[1;32m~\\anaconda3\\lib\\site-packages\\pandas\\core\\indexes\\base.py\u001b[0m in \u001b[0;36mget_loc\u001b[1;34m(self, key, method, tolerance)\u001b[0m\n\u001b[0;32m   2646\u001b[0m                 \u001b[1;32mreturn\u001b[0m \u001b[0mself\u001b[0m\u001b[1;33m.\u001b[0m\u001b[0m_engine\u001b[0m\u001b[1;33m.\u001b[0m\u001b[0mget_loc\u001b[0m\u001b[1;33m(\u001b[0m\u001b[0mkey\u001b[0m\u001b[1;33m)\u001b[0m\u001b[1;33m\u001b[0m\u001b[1;33m\u001b[0m\u001b[0m\n\u001b[0;32m   2647\u001b[0m             \u001b[1;32mexcept\u001b[0m \u001b[0mKeyError\u001b[0m\u001b[1;33m:\u001b[0m\u001b[1;33m\u001b[0m\u001b[1;33m\u001b[0m\u001b[0m\n\u001b[1;32m-> 2648\u001b[1;33m                 \u001b[1;32mreturn\u001b[0m \u001b[0mself\u001b[0m\u001b[1;33m.\u001b[0m\u001b[0m_engine\u001b[0m\u001b[1;33m.\u001b[0m\u001b[0mget_loc\u001b[0m\u001b[1;33m(\u001b[0m\u001b[0mself\u001b[0m\u001b[1;33m.\u001b[0m\u001b[0m_maybe_cast_indexer\u001b[0m\u001b[1;33m(\u001b[0m\u001b[0mkey\u001b[0m\u001b[1;33m)\u001b[0m\u001b[1;33m)\u001b[0m\u001b[1;33m\u001b[0m\u001b[1;33m\u001b[0m\u001b[0m\n\u001b[0m\u001b[0;32m   2649\u001b[0m         \u001b[0mindexer\u001b[0m \u001b[1;33m=\u001b[0m \u001b[0mself\u001b[0m\u001b[1;33m.\u001b[0m\u001b[0mget_indexer\u001b[0m\u001b[1;33m(\u001b[0m\u001b[1;33m[\u001b[0m\u001b[0mkey\u001b[0m\u001b[1;33m]\u001b[0m\u001b[1;33m,\u001b[0m \u001b[0mmethod\u001b[0m\u001b[1;33m=\u001b[0m\u001b[0mmethod\u001b[0m\u001b[1;33m,\u001b[0m \u001b[0mtolerance\u001b[0m\u001b[1;33m=\u001b[0m\u001b[0mtolerance\u001b[0m\u001b[1;33m)\u001b[0m\u001b[1;33m\u001b[0m\u001b[1;33m\u001b[0m\u001b[0m\n\u001b[0;32m   2650\u001b[0m         \u001b[1;32mif\u001b[0m \u001b[0mindexer\u001b[0m\u001b[1;33m.\u001b[0m\u001b[0mndim\u001b[0m \u001b[1;33m>\u001b[0m \u001b[1;36m1\u001b[0m \u001b[1;32mor\u001b[0m \u001b[0mindexer\u001b[0m\u001b[1;33m.\u001b[0m\u001b[0msize\u001b[0m \u001b[1;33m>\u001b[0m \u001b[1;36m1\u001b[0m\u001b[1;33m:\u001b[0m\u001b[1;33m\u001b[0m\u001b[1;33m\u001b[0m\u001b[0m\n",
      "\u001b[1;32mpandas\\_libs\\index.pyx\u001b[0m in \u001b[0;36mpandas._libs.index.IndexEngine.get_loc\u001b[1;34m()\u001b[0m\n",
      "\u001b[1;32mpandas\\_libs\\index.pyx\u001b[0m in \u001b[0;36mpandas._libs.index.IndexEngine.get_loc\u001b[1;34m()\u001b[0m\n",
      "\u001b[1;32mpandas\\_libs\\hashtable_class_helper.pxi\u001b[0m in \u001b[0;36mpandas._libs.hashtable.PyObjectHashTable.get_item\u001b[1;34m()\u001b[0m\n",
      "\u001b[1;32mpandas\\_libs\\hashtable_class_helper.pxi\u001b[0m in \u001b[0;36mpandas._libs.hashtable.PyObjectHashTable.get_item\u001b[1;34m()\u001b[0m\n",
      "\u001b[1;31mKeyError\u001b[0m: 'Price'"
     ]
    }
   ],
   "source": [
    "dummies = no_nan.select_dtypes('object').columns\n",
    "y = no_nan.pop('Price')\n",
    "X = pd.get_dummies(no_nan, columns = dummies, dummy_na = True, prefix=dummies)\n",
    "\n",
    "X_train, X_test, y_train, y_test = train_test_split(X , y, test_size=0.20, random_state = 10)"
   ]
  },
  {
   "cell_type": "code",
   "execution_count": null,
   "metadata": {},
   "outputs": [],
   "source": [
    "from sklearn.ensemble import RandomForestRegressor\n",
    "from sklearn.model_selection import cross_val_score\n",
    "from sklearn.metrics import accuracy_score\n",
    "from sklearn.model_selection import GridSearchCV\n",
    "\n",
    "rfr = RandomForestRegressor(random_state = 10)\n",
    "\n",
    "param_grid = { 'n_estimators': [200,500],\n",
    "             'max_features': ['auto']}\n",
    "CV_rfr = GridSearchCV( estimator = rfr, param_grid=param_grid, cv =5, verbose =1)\n",
    "CV_rfr.fit(X_train, y_train)"
   ]
  },
  {
   "cell_type": "code",
   "execution_count": null,
   "metadata": {},
   "outputs": [],
   "source": [
    "CV_rfr.best_params_"
   ]
  },
  {
   "cell_type": "code",
   "execution_count": null,
   "metadata": {},
   "outputs": [],
   "source": [
    "from keras.models import Sequential\n",
    "from keras.layers import Dense\n",
    "from keras.wrappers.scikit_learn import KerasClassifier\n",
    "\n"
   ]
  },
  {
   "cell_type": "code",
   "execution_count": null,
   "metadata": {},
   "outputs": [],
   "source": [
    "def create_model():\n",
    "    model = Sequential()\n",
    "    model.add(Dense())"
   ]
  }
 ],
 "metadata": {
  "kernelspec": {
   "display_name": "Python 3",
   "language": "python",
   "name": "python3"
  },
  "language_info": {
   "codemirror_mode": {
    "name": "ipython",
    "version": 3
   },
   "file_extension": ".py",
   "mimetype": "text/x-python",
   "name": "python",
   "nbconvert_exporter": "python",
   "pygments_lexer": "ipython3",
   "version": "3.7.6"
  }
 },
 "nbformat": 4,
 "nbformat_minor": 4
}
